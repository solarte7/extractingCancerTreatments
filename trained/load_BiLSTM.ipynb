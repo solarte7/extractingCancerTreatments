{
 "cells": [
  {
   "cell_type": "code",
   "execution_count": null,
   "metadata": {},
   "outputs": [],
   "source": [
    "#First of all, you must install next software requirements\n",
    "\n",
    "#!/opt/conda/bin/python3.7 -m pip install --upgrade pip\n",
    "#!pip install seqeval\n",
    "#!pip install tensorflow-addons\n"
   ]
  },
  {
   "cell_type": "code",
   "execution_count": 42,
   "metadata": {},
   "outputs": [],
   "source": [
    "# Testing NER\n",
    "import sys\n",
    "#sys.path.append('../libs')\n",
    "sys.path.append('libs/')\n",
    "import tensorflow as tf\n",
    "#import keras as k\n",
    "import matplotlib.pyplot as plt\n",
    "import numpy as np\n",
    "import pickle\n",
    "import pandas as pd\n",
    "from itertools import islice\n",
    "\n",
    "from tabulate import tabulate\n",
    "from sklearn.metrics import confusion_matrix\n",
    "from sklearn.metrics import classification_report as eskclarep\n",
    "from seqeval.metrics import precision_score, recall_score, f1_score, accuracy_score\n",
    "from seqeval.metrics import classification_report as seqclarep\n",
    "from sklearn.preprocessing import LabelBinarizer\n",
    "from itertools import chain\n",
    "\n",
    "from tensorflow.keras.preprocessing.sequence import pad_sequences\n",
    "from tensorflow.keras.models import Model, Sequential, model_from_json\n",
    "from tensorflow.keras.layers import Concatenate, Lambda, Input, LSTM, Embedding, Dense, TimeDistributed, Dropout, Bidirectional, InputLayer, Activation, Flatten\n",
    "from tensorflow.keras.optimizers import Adam, schedules\n",
    "\n",
    "from crfta import CRF as crf4\n",
    "from utils import build_matrix_embeddings as bme, plot_model_performance, logits_to_tokens, report_to_df\n",
    "\n",
    "from tensorflow.keras.callbacks import ModelCheckpoint\n",
    "from tensorflow.keras.callbacks import TensorBoard\n",
    "\n",
    "# ****** DEFINICION DE PARAMETROS *********\n",
    "\n",
    "NUM_WORDS   = 12071 + 2\n",
    "LEN_SENTS   = 153\n",
    "NUM_TAGS    = 30 + 2\n",
    "\n",
    "# ****** DEFINICION DE HIPERPARAMETROS *********\n",
    "_EPOCHS      = 50\n",
    "EMBED_DIM    = 350#300\n",
    "CHAR_EMBEDD  = 50\n",
    "_DROPOUT     = 0.5\n",
    "REC_DROPOUT  = 0.1\n",
    "LEARN_RATE   = 1e-3\n",
    "N_TRAIN      = int(1e4)\n",
    "EP_DECAY     = 1e-8\n",
    "BETA_1       = 0.9\n",
    "BETA_2       = 0.999\n",
    "_BACH_SIZE   = 500\n",
    "VAL_SPLIT    = 0.1\n",
    "STEPS_PER_EPOCH = N_TRAIN//_BACH_SIZE\n",
    "###\n",
    "\n",
    "from IPython.core.display import display, HTML\n",
    "\n",
    "import datetime, os\n",
    "import random\n"
   ]
  },
  {
   "cell_type": "code",
   "execution_count": 43,
   "metadata": {},
   "outputs": [],
   "source": [
    "#word2idx = np.load('../vectors/word2index.npy', allow_pickle=True).item()\n",
    "#idx2tag  = np.load('../vectors/index2tag.npy', allow_pickle=True).item()\n",
    "\n",
    "word2idx = np.load('vectors/word2index.npy', allow_pickle=True).item()\n",
    "idx2tag  = np.load('vectors/index2tag.npy', allow_pickle=True).item()"
   ]
  },
  {
   "cell_type": "code",
   "execution_count": 44,
   "metadata": {},
   "outputs": [],
   "source": [
    "input1 = Input(shape=(LEN_SENTS,), dtype='int32')\n",
    "\n",
    "# Embedding sentences Layer\n",
    "sentences = Embedding(NUM_WORDS,\n",
    "                      EMBED_DIM,\n",
    "                      input_length=LEN_SENTS,\n",
    "                      mask_zero=False)(input1)\n",
    "\n",
    "drp_sentences = Dropout(_DROPOUT, name='dropout_sentences')(sentences)\n",
    "\n",
    "# BI-LSTM Layer\n",
    "myModel = Bidirectional(LSTM(EMBED_DIM, \n",
    "                             return_sequences=True\n",
    "                            ),\n",
    "                        name='bilstm1')(drp_sentences)\n",
    "\n",
    "# TimeDistributed Layer\n",
    "myModel  = TimeDistributed(Dropout(_DROPOUT))(myModel)\n",
    "myModel  = TimeDistributed(Dense(units=EMBED_DIM * 2, activation='relu'))(myModel)\n",
    "myModel  = TimeDistributed(Dense(units=NUM_TAGS, activation='relu'))(myModel)\n",
    "\n",
    "# CRF Layer\n",
    "crf= crf4(NUM_TAGS,  sparse_target=True, name='crf_layer')\n",
    "\n",
    "merged_chain = crf(myModel)\n",
    "\n",
    "model = Model(inputs=input1, outputs=merged_chain)\n",
    "\n",
    "model.compile(optimizer='adam', loss=crf.loss, metrics=[crf.accuracy])"
   ]
  },
  {
   "cell_type": "code",
   "execution_count": 45,
   "metadata": {},
   "outputs": [
    {
     "name": "stdout",
     "output_type": "stream",
     "text": [
      "Loaded model from disk\n"
     ]
    }
   ],
   "source": [
    "# load json and create model../model-save\n",
    "#json_file = open('../model-save/model-00/mb-00.json', 'r')\n",
    "#loaded_model_json = json_file.read()\n",
    "#json_file.close()\n",
    "#loaded_model = model_from_json(loaded_model_json)\n",
    "\n",
    "# load weights into new model\n",
    "model.load_weights(\"saved_models/BiLSTM/saved/model04/model04.h5\")\n",
    "print(\"Loaded model from disk\")"
   ]
  },
  {
   "cell_type": "code",
   "execution_count": 53,
   "metadata": {},
   "outputs": [],
   "source": [
    "#Note: Sentences must be previously tokenized (e.g Using Spacy for spanish)\n",
    "#The model receives a tokenized sentence and returns a NER label for each token.\n",
    "#Next sentences have been proviously tokenized. \n",
    "#It is recommended to use  Spacy tokenizerfor spanish language.\n",
    "\n",
    "ner_samples = [\n",
    "    \"CICLO 2 CARBOPLATINO / PACLITAXEL . \".split(),\n",
    "    \"En Agosto de 2015 ha recibido 3 ciclos de CISPLATINO / VINORELBINA buena tolerancia clinica .\".split(),\n",
    "    \"QT : CISPLATINO 75 mg / m2 DIA 1 IV + VINORELBINA 25  mg / m2 IV DIAS 1,8 - Adenocarcinoma pulmon lobulo superior derecho \".split(),\n",
    "    \"El dia 27 de junio iniciamos tratamiento con quimioterapia segun esquema CARBOPLATINO / PEMETREXED .\".split(),\n",
    "    \"CICLO 1 CARBOPLATINO AUC 5 - PEMETREXED 500 mg/m2 IV cada 21 dias..\".split(),\n",
    "    \"RT con dosis 50 Gy, se encuentra bien. \".split(),\n",
    "    \"Carcinoma escamoso de pulmón cT3 cN2 cM0 (al menos estadio IIIB de TNM 8ª ed .\".split(),\n",
    "    \"Diagnosticado en marzo de 2016 de Adenoca de pulmón cT2cN2cM1a .\".split(),\n",
    "    \"Ha sido diagnosticada de cancer de pulmon en marzo de 2019 .\".split(),\n",
    "    \"Inicia tratamiento con Cisplatino + Pemetrexed + Bevacizumab (5 ciclos administrados, ultimo en enero de 2014).\".split(),\n",
    "    \"Carcinoma escamoso de pulmón intervenido en marzo 2017 .\".split(),\n",
    "    \"En 2014, intervenido de carcinoma de pulmón pT2bN1cM0 realizandose nefrectomia derecha .\".split(),\n",
    "    \"carcinoma microcitico de pulmon t4n2m0 en tto quimioterapico: carboplatino / etoposido .\".split(),\n",
    "    \"Colico renoureteral derecho con fracaso renal obstructivo en Julio de 2015 . \".split()\n",
    "    \n",
    "]"
   ]
  },
  {
   "cell_type": "code",
   "execution_count": null,
   "metadata": {},
   "outputs": [],
   "source": [
    "#Spacy code\n",
    "#import spacy\n",
    "#import es_core_news_md\n",
    "#spacy_tokenizer = es_core_news_md.load()\n",
    "#\n",
    "#def word_tokenizer_spacy(textSentence):\n",
    "#\tsentence=\"\"\n",
    "#\tdoc =spacy_tokenizer(textSentence)\n",
    " \n",
    "#\tfor token in doc:\n",
    "#\t\tsentence= sentence + token.text + \" \"\n",
    "#\treturn sentence\n"
   ]
  },
  {
   "cell_type": "code",
   "execution_count": 54,
   "metadata": {},
   "outputs": [
    {
     "name": "stdout",
     "output_type": "stream",
     "text": [
      "Examples: \n",
      " [[ 2926  3770  4158 ...     0     0     0]\n",
      " [ 1044  8808  2706 ...     0     0     0]\n",
      " [    1  4616  7093 ...     0     0     0]\n",
      " ...\n",
      " [ 1044     1  2607 ...     0     0     0]\n",
      " [10469   531  2706 ...     0     0     0]\n",
      " [ 1628 10337  7713 ...     0     0     0]]\n"
     ]
    }
   ],
   "source": [
    "ner_samples_X    = []\n",
    "\n",
    "for s1 in ner_samples:\n",
    "    s1_int = []\n",
    "    for w in s1:\n",
    "        try:\n",
    "            s1_int.append(word2idx[w.lower()])\n",
    "        except KeyError:\n",
    "            s1_int.append(word2idx['-OOV-'])\n",
    "    ner_samples_X.append(s1_int)\n",
    "\n",
    "ner_samples_X = pad_sequences(ner_samples_X, maxlen=LEN_SENTS, padding='post')\n",
    "\n",
    "\n",
    "print(\"Examples: \\n\", ner_samples_X)\n",
    "\n"
   ]
  },
  {
   "cell_type": "code",
   "execution_count": 50,
   "metadata": {},
   "outputs": [],
   "source": [
    "predictions1 = model.predict(ner_samples_X)\n",
    "#print(\"Examples: \\n\", predictions1, predictions1.shape)\n"
   ]
  },
  {
   "cell_type": "code",
   "execution_count": 55,
   "metadata": {},
   "outputs": [
    {
     "name": "stdout",
     "output_type": "stream",
     "text": [
      "Ner: \n",
      " ['B_METRIC', 'B_QUANTITY', 'B_DRUG', 'O', 'B_DRUG', 'O', 'B_DRUG', 'O', 'B_DRUG', 'B_DRUG', 'B_FREQ', 'B_FREQ', 'B_FREQ', 'B_FREQ', 'B_FREQ', 'O', 'O', 'O', 'O', 'O', 'O', 'O', 'O', 'O', 'O', 'O', 'O', 'O', 'O', 'O', 'O', 'O', 'O', 'O', 'O', 'O', 'O', 'O', 'O', 'O', 'O', 'O', 'O', 'B_FREQ', 'B_FREQ', 'B_FREQ', 'B_FREQ', 'B_FREQ', 'B_FREQ', 'B_FREQ', 'B_FREQ', 'B_FREQ', 'B_FREQ', 'B_FREQ', 'B_FREQ', 'B_FREQ', 'B_FREQ', 'B_FREQ', 'O', 'O', 'O', 'O', 'O', 'O', 'O', 'O', 'O', 'O', 'O', 'O', 'O', 'O', 'O', 'O', 'O', 'O', 'O', 'O', 'O', 'O', 'O', 'O', 'O', 'O', 'O', 'O', 'O', 'O', 'O', 'O', 'O', 'O', 'O', 'O', 'O', 'O', 'O', 'O', 'O', 'O', 'O', 'O', 'O', 'O', 'O', 'O', 'O', 'O', 'O', 'O', 'O', 'O', 'O', 'O', 'O', 'O', 'O', 'O', 'O', 'O', 'O', 'O', 'O', 'O', 'O', 'O', 'O', 'O', 'O', 'O', 'O', 'O', 'O', 'O', 'O', 'O', 'O', 'O', 'O', 'O', 'O', 'O', 'O', 'O', 'O', 'O', 'O', 'O', 'O', 'O', 'O', 'O', 'I_OCURRENCE_EVENT']\n"
     ]
    }
   ],
   "source": [
    "log_tokens1 = logits_to_tokens(np.argmax(predictions1, -1), idx2tag)\n",
    "\n",
    "print(\"Ner: \\n\", log_tokens1[0])\n",
    "#print(\"\\nUncertainty: \\n\", log_tokens2[0])\n",
    "#print(\"\\nBoth: \\n\", log_tokens3[0])"
   ]
  },
  {
   "cell_type": "code",
   "execution_count": 56,
   "metadata": {
    "scrolled": true
   },
   "outputs": [
    {
     "data": {
      "text/html": [
       "<div style='overflow-x: auto; white-space: nowrap;'><table>\n",
       "<thead>\n",
       "<tr><th>CICLO   </th><th>2         </th><th>CARBOPLATINO  </th><th>/  </th><th>PACLITAXEL  </th><th>.  </th></tr>\n",
       "</thead>\n",
       "<tbody>\n",
       "<tr><td>B_METRIC</td><td>B_QUANTITY</td><td>B_DRUG        </td><td>O  </td><td>B_DRUG      </td><td>O  </td></tr>\n",
       "</tbody>\n",
       "</table></div>"
      ],
      "text/plain": [
       "<IPython.core.display.HTML object>"
      ]
     },
     "metadata": {},
     "output_type": "display_data"
    },
    {
     "data": {
      "text/html": [
       "<div style='overflow-x: auto; white-space: nowrap;'><table>\n",
       "<thead>\n",
       "<tr><th>En  </th><th>Agosto  </th><th>de    </th><th>2015  </th><th>ha  </th><th>recibido  </th><th>3         </th><th>ciclos  </th><th>de  </th><th>CISPLATINO  </th><th>/  </th><th>VINORELBINA  </th><th>buena  </th><th>tolerancia  </th><th>clinica  </th><th>.  </th></tr>\n",
       "</thead>\n",
       "<tbody>\n",
       "<tr><td>O   </td><td>B_DATE  </td><td>I_DATE</td><td>I_DATE</td><td>O   </td><td>O         </td><td>B_QUANTITY</td><td>B_METRIC</td><td>O   </td><td>B_DRUG      </td><td>O  </td><td>B_DRUG       </td><td>O      </td><td>O           </td><td>O        </td><td>O  </td></tr>\n",
       "</tbody>\n",
       "</table></div>"
      ],
      "text/plain": [
       "<IPython.core.display.HTML object>"
      ]
     },
     "metadata": {},
     "output_type": "display_data"
    },
    {
     "data": {
      "text/html": [
       "<div style='overflow-x: auto; white-space: nowrap;'><table>\n",
       "<thead>\n",
       "<tr><th>QT        </th><th>:  </th><th>CISPLATINO  </th><th>75        </th><th>mg      </th><th>/  </th><th>m2      </th><th>DIA     </th><th>1         </th><th>IV  </th><th>+  </th><th>VINORELBINA  </th><th>25        </th><th>mg      </th><th>/  </th><th>m2      </th><th>IV  </th><th>DIAS    </th><th>1,8       </th><th>-  </th><th>Adenocarcinoma  </th><th>pulmon          </th><th>lobulo  </th><th>superior  </th><th>derecho  </th></tr>\n",
       "</thead>\n",
       "<tbody>\n",
       "<tr><td>B_QUANTITY</td><td>O  </td><td>B_DRUG      </td><td>B_QUANTITY</td><td>B_METRIC</td><td>O  </td><td>B_METRIC</td><td>B_METRIC</td><td>B_QUANTITY</td><td>O   </td><td>O  </td><td>B_DRUG       </td><td>B_QUANTITY</td><td>B_METRIC</td><td>O  </td><td>B_METRIC</td><td>O   </td><td>B_METRIC</td><td>B_QUANTITY</td><td>O  </td><td>B_CANCER_CONCEPT</td><td>I_CANCER_CONCEPT</td><td>O       </td><td>O         </td><td>O        </td></tr>\n",
       "</tbody>\n",
       "</table></div>"
      ],
      "text/plain": [
       "<IPython.core.display.HTML object>"
      ]
     },
     "metadata": {},
     "output_type": "display_data"
    },
    {
     "data": {
      "text/html": [
       "<div style='overflow-x: auto; white-space: nowrap;'><table>\n",
       "<thead>\n",
       "<tr><th>El  </th><th>dia  </th><th>27    </th><th>de    </th><th>junio  </th><th>iniciamos        </th><th>tratamiento      </th><th>con  </th><th>quimioterapia  </th><th>segun  </th><th>esquema  </th><th>CARBOPLATINO  </th><th>/  </th><th>PEMETREXED  </th><th>.  </th></tr>\n",
       "</thead>\n",
       "<tbody>\n",
       "<tr><td>O   </td><td>O    </td><td>B_DATE</td><td>I_DATE</td><td>I_DATE </td><td>B_OCURRENCE_EVENT</td><td>I_OCURRENCE_EVENT</td><td>O    </td><td>B_CHEMOTHERAPY </td><td>O      </td><td>O        </td><td>B_DRUG        </td><td>O  </td><td>B_DRUG      </td><td>O  </td></tr>\n",
       "</tbody>\n",
       "</table></div>"
      ],
      "text/plain": [
       "<IPython.core.display.HTML object>"
      ]
     },
     "metadata": {},
     "output_type": "display_data"
    },
    {
     "data": {
      "text/html": [
       "<div style='overflow-x: auto; white-space: nowrap;'><table>\n",
       "<thead>\n",
       "<tr><th>CICLO   </th><th>1         </th><th>CARBOPLATINO  </th><th>AUC  </th><th>5         </th><th>-  </th><th>PEMETREXED  </th><th>500       </th><th>mg/m2   </th><th>IV  </th><th>cada  </th><th>21    </th><th>dias..  </th></tr>\n",
       "</thead>\n",
       "<tbody>\n",
       "<tr><td>B_METRIC</td><td>B_QUANTITY</td><td>B_DRUG        </td><td>O    </td><td>B_QUANTITY</td><td>O  </td><td>B_DRUG      </td><td>B_QUANTITY</td><td>B_METRIC</td><td>O   </td><td>B_FREQ</td><td>I_FREQ</td><td>O       </td></tr>\n",
       "</tbody>\n",
       "</table></div>"
      ],
      "text/plain": [
       "<IPython.core.display.HTML object>"
      ]
     },
     "metadata": {},
     "output_type": "display_data"
    },
    {
     "data": {
      "text/html": [
       "<div style='overflow-x: auto; white-space: nowrap;'><table>\n",
       "<thead>\n",
       "<tr><th>RT  </th><th>con  </th><th>dosis  </th><th>50        </th><th>Gy,  </th><th>se  </th><th>encuentra  </th><th>bien.  </th></tr>\n",
       "</thead>\n",
       "<tbody>\n",
       "<tr><td>O   </td><td>O    </td><td>O      </td><td>B_QUANTITY</td><td>O    </td><td>O   </td><td>O          </td><td>O      </td></tr>\n",
       "</tbody>\n",
       "</table></div>"
      ],
      "text/plain": [
       "<IPython.core.display.HTML object>"
      ]
     },
     "metadata": {},
     "output_type": "display_data"
    },
    {
     "data": {
      "text/html": [
       "<div style='overflow-x: auto; white-space: nowrap;'><table>\n",
       "<thead>\n",
       "<tr><th>Carcinoma       </th><th>escamoso        </th><th>de              </th><th>pulmón          </th><th>cT3  </th><th>cN2  </th><th>cM0  </th><th>(al  </th><th>menos  </th><th>estadio  </th><th>IIIB   </th><th>de  </th><th>TNM  </th><th>8ª        </th><th>ed      </th><th>.  </th></tr>\n",
       "</thead>\n",
       "<tbody>\n",
       "<tr><td>B_CANCER_CONCEPT</td><td>I_CANCER_CONCEPT</td><td>I_CANCER_CONCEPT</td><td>I_CANCER_CONCEPT</td><td>B_TNM</td><td>O    </td><td>B_TNM</td><td>O    </td><td>O      </td><td>B_STAGE  </td><td>I_STAGE</td><td>O   </td><td>O    </td><td>B_QUANTITY</td><td>B_METRIC</td><td>O  </td></tr>\n",
       "</tbody>\n",
       "</table></div>"
      ],
      "text/plain": [
       "<IPython.core.display.HTML object>"
      ]
     },
     "metadata": {},
     "output_type": "display_data"
    },
    {
     "data": {
      "text/html": [
       "<div style='overflow-x: auto; white-space: nowrap;'><table>\n",
       "<thead>\n",
       "<tr><th>Diagnosticado    </th><th>en               </th><th>marzo  </th><th>de    </th><th>2016  </th><th>de  </th><th>Adenoca         </th><th>de              </th><th>pulmón          </th><th>cT2cN2cM1a  </th><th>.  </th></tr>\n",
       "</thead>\n",
       "<tbody>\n",
       "<tr><td>B_OCURRENCE_EVENT</td><td>I_OCURRENCE_EVENT</td><td>B_DATE </td><td>I_DATE</td><td>I_DATE</td><td>O   </td><td>B_CANCER_CONCEPT</td><td>I_CANCER_CONCEPT</td><td>I_CANCER_CONCEPT</td><td>O           </td><td>O  </td></tr>\n",
       "</tbody>\n",
       "</table></div>"
      ],
      "text/plain": [
       "<IPython.core.display.HTML object>"
      ]
     },
     "metadata": {},
     "output_type": "display_data"
    },
    {
     "data": {
      "text/html": [
       "<div style='overflow-x: auto; white-space: nowrap;'><table>\n",
       "<thead>\n",
       "<tr><th>Ha               </th><th>sido  </th><th>diagnosticada    </th><th>de  </th><th>cancer          </th><th>de              </th><th>pulmon          </th><th>en  </th><th>marzo  </th><th>de    </th><th>2019  </th><th>.  </th></tr>\n",
       "</thead>\n",
       "<tbody>\n",
       "<tr><td>B_OCURRENCE_EVENT</td><td>O     </td><td>B_OCURRENCE_EVENT</td><td>O   </td><td>B_CANCER_CONCEPT</td><td>I_CANCER_CONCEPT</td><td>I_CANCER_CONCEPT</td><td>O   </td><td>B_DATE </td><td>I_DATE</td><td>I_DATE</td><td>O  </td></tr>\n",
       "</tbody>\n",
       "</table></div>"
      ],
      "text/plain": [
       "<IPython.core.display.HTML object>"
      ]
     },
     "metadata": {},
     "output_type": "display_data"
    },
    {
     "data": {
      "text/html": [
       "<div style='overflow-x: auto; white-space: nowrap;'><table>\n",
       "<thead>\n",
       "<tr><th>Inicia           </th><th>tratamiento      </th><th>con  </th><th>Cisplatino  </th><th>+  </th><th>Pemetrexed  </th><th>+  </th><th>Bevacizumab  </th><th>(5        </th><th>ciclos  </th><th>administrados,  </th><th>ultimo           </th><th>en  </th><th>enero  </th><th>de    </th><th>2014).  </th></tr>\n",
       "</thead>\n",
       "<tbody>\n",
       "<tr><td>B_OCURRENCE_EVENT</td><td>I_OCURRENCE_EVENT</td><td>O    </td><td>B_DRUG      </td><td>O  </td><td>B_DRUG      </td><td>O  </td><td>O            </td><td>B_QUANTITY</td><td>B_METRIC</td><td>O               </td><td>B_OCURRENCE_EVENT</td><td>O   </td><td>B_DATE </td><td>I_DATE</td><td>I_DATE  </td></tr>\n",
       "</tbody>\n",
       "</table></div>"
      ],
      "text/plain": [
       "<IPython.core.display.HTML object>"
      ]
     },
     "metadata": {},
     "output_type": "display_data"
    },
    {
     "data": {
      "text/html": [
       "<div style='overflow-x: auto; white-space: nowrap;'><table>\n",
       "<thead>\n",
       "<tr><th>Carcinoma       </th><th>escamoso        </th><th>de              </th><th>pulmón          </th><th>intervenido      </th><th>en  </th><th>marzo  </th><th>2017  </th><th>.  </th></tr>\n",
       "</thead>\n",
       "<tbody>\n",
       "<tr><td>B_CANCER_CONCEPT</td><td>I_CANCER_CONCEPT</td><td>I_CANCER_CONCEPT</td><td>I_CANCER_CONCEPT</td><td>B_OCURRENCE_EVENT</td><td>O   </td><td>B_DATE </td><td>I_DATE</td><td>O  </td></tr>\n",
       "</tbody>\n",
       "</table></div>"
      ],
      "text/plain": [
       "<IPython.core.display.HTML object>"
      ]
     },
     "metadata": {},
     "output_type": "display_data"
    },
    {
     "data": {
      "text/html": [
       "<div style='overflow-x: auto; white-space: nowrap;'><table>\n",
       "<thead>\n",
       "<tr><th>En  </th><th>2014,  </th><th>intervenido      </th><th>de  </th><th>carcinoma       </th><th>de              </th><th>pulmón          </th><th>pT2bN1cM0  </th><th>realizandose  </th><th>nefrectomia  </th><th>derecha  </th><th>.  </th></tr>\n",
       "</thead>\n",
       "<tbody>\n",
       "<tr><td>O   </td><td>B_DATE </td><td>B_OCURRENCE_EVENT</td><td>O   </td><td>B_CANCER_CONCEPT</td><td>I_CANCER_CONCEPT</td><td>I_CANCER_CONCEPT</td><td>O          </td><td>O             </td><td>B_SURGERY    </td><td>I_SURGERY</td><td>O  </td></tr>\n",
       "</tbody>\n",
       "</table></div>"
      ],
      "text/plain": [
       "<IPython.core.display.HTML object>"
      ]
     },
     "metadata": {},
     "output_type": "display_data"
    },
    {
     "data": {
      "text/html": [
       "<div style='overflow-x: auto; white-space: nowrap;'><table>\n",
       "<thead>\n",
       "<tr><th>carcinoma       </th><th>microcitico     </th><th>de              </th><th>pulmon          </th><th>t4n2m0  </th><th>en   </th><th>tto  </th><th>quimioterapico:  </th><th>carboplatino  </th><th>/  </th><th>etoposido  </th><th>.  </th></tr>\n",
       "</thead>\n",
       "<tbody>\n",
       "<tr><td>B_CANCER_CONCEPT</td><td>I_CANCER_CONCEPT</td><td>I_CANCER_CONCEPT</td><td>I_CANCER_CONCEPT</td><td>B_TNM   </td><td>I_TNM</td><td>I_TNM</td><td>O                </td><td>O             </td><td>O  </td><td>B_DRUG     </td><td>O  </td></tr>\n",
       "</tbody>\n",
       "</table></div>"
      ],
      "text/plain": [
       "<IPython.core.display.HTML object>"
      ]
     },
     "metadata": {},
     "output_type": "display_data"
    },
    {
     "data": {
      "text/html": [
       "<div style='overflow-x: auto; white-space: nowrap;'><table>\n",
       "<thead>\n",
       "<tr><th>Colico  </th><th>renoureteral  </th><th>derecho  </th><th>con  </th><th>fracaso  </th><th>renal  </th><th>obstructivo  </th><th>en  </th><th>Julio  </th><th>de    </th><th>2015  </th><th>.  </th></tr>\n",
       "</thead>\n",
       "<tbody>\n",
       "<tr><td>O       </td><td>O             </td><td>O        </td><td>O    </td><td>O        </td><td>O      </td><td>O            </td><td>O   </td><td>B_DATE </td><td>I_DATE</td><td>I_DATE</td><td>O  </td></tr>\n",
       "</tbody>\n",
       "</table></div>"
      ],
      "text/plain": [
       "<IPython.core.display.HTML object>"
      ]
     },
     "metadata": {},
     "output_type": "display_data"
    }
   ],
   "source": [
    "for h, oracc in enumerate(ner_samples):\n",
    "    heads = oracc\n",
    "    body  = [log_tokens1[h][:len(oracc)]]\n",
    "    display(HTML(\"<div style='overflow-x: auto; white-space: nowrap;'>\" + \n",
    "                 tabulate(body, headers=heads, tablefmt=\"html\") + \n",
    "                 \"</div>\"))"
   ]
  },
  {
   "cell_type": "code",
   "execution_count": null,
   "metadata": {},
   "outputs": [],
   "source": []
  },
  {
   "cell_type": "code",
   "execution_count": null,
   "metadata": {},
   "outputs": [],
   "source": []
  },
  {
   "cell_type": "code",
   "execution_count": null,
   "metadata": {},
   "outputs": [],
   "source": []
  },
  {
   "cell_type": "code",
   "execution_count": null,
   "metadata": {},
   "outputs": [],
   "source": []
  }
 ],
 "metadata": {
  "kernelspec": {
   "display_name": "Python 3",
   "language": "python",
   "name": "python3"
  },
  "language_info": {
   "codemirror_mode": {
    "name": "ipython",
    "version": 3
   },
   "file_extension": ".py",
   "mimetype": "text/x-python",
   "name": "python",
   "nbconvert_exporter": "python",
   "pygments_lexer": "ipython3",
   "version": "3.8.5"
  }
 },
 "nbformat": 4,
 "nbformat_minor": 5
}
