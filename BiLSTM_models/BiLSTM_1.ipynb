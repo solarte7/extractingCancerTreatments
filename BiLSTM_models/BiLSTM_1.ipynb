{
 "cells": [
  {
   "cell_type": "code",
   "execution_count": 1,
   "metadata": {},
   "outputs": [
    {
     "name": "stdout",
     "output_type": "stream",
     "text": [
      "Requirement already satisfied: pip in /opt/conda/lib/python3.7/site-packages (21.1.1)\n",
      "\u001b[33mWARNING: Running pip as root will break packages and permissions. You should install packages reliably by using venv: https://pip.pypa.io/warnings/venv\u001b[0m\n",
      "Requirement already satisfied: seqeval in /opt/conda/lib/python3.7/site-packages (1.2.2)\n",
      "Requirement already satisfied: numpy>=1.14.0 in /opt/conda/lib/python3.7/site-packages (from seqeval) (1.19.5)\n",
      "Requirement already satisfied: scikit-learn>=0.21.3 in /opt/conda/lib/python3.7/site-packages (from seqeval) (0.24.1)\n",
      "Requirement already satisfied: threadpoolctl>=2.0.0 in /opt/conda/lib/python3.7/site-packages (from scikit-learn>=0.21.3->seqeval) (2.1.0)\n",
      "Requirement already satisfied: joblib>=0.11 in /opt/conda/lib/python3.7/site-packages (from scikit-learn>=0.21.3->seqeval) (1.0.1)\n",
      "Requirement already satisfied: scipy>=0.19.1 in /opt/conda/lib/python3.7/site-packages (from scikit-learn>=0.21.3->seqeval) (1.5.4)\n",
      "\u001b[33mWARNING: Running pip as root will break packages and permissions. You should install packages reliably by using venv: https://pip.pypa.io/warnings/venv\u001b[0m\n"
     ]
    }
   ],
   "source": [
    "!/opt/conda/bin/python3.7 -m pip install --upgrade pip\n",
    "!pip install seqeval"
   ]
  },
  {
   "cell_type": "markdown",
   "metadata": {},
   "source": [
    "### Modelo Deep learning NER con bilstm y crf - model-04-tfa-fastText-(Scielo+wiki-uncased-cbow)+(char-50)\n",
    "\n",
    "### Definicion de Parametro e Hiperparametros del Modelo"
   ]
  },
  {
   "cell_type": "code",
   "execution_count": 2,
   "metadata": {},
   "outputs": [
    {
     "name": "stdout",
     "output_type": "stream",
     "text": [
      "1 Physical GPUs, 1 Logical GPUs\n"
     ]
    }
   ],
   "source": [
    "import sys\n",
    "sys.path.append('../input/libsutils')\n",
    "\n",
    "import tensorflow as tf\n",
    "import matplotlib.pyplot as plt\n",
    "import numpy as np\n",
    "import pickle\n",
    "import pandas as pd\n",
    "from itertools import islice\n",
    "\n",
    "from tabulate import tabulate\n",
    "from sklearn.metrics import confusion_matrix\n",
    "from sklearn.metrics import classification_report as eskclarep\n",
    "from seqeval.metrics import precision_score, recall_score, f1_score, accuracy_score\n",
    "from seqeval.metrics import classification_report as seqclarep\n",
    "from sklearn.preprocessing import LabelBinarizer\n",
    "from itertools import chain\n",
    "\n",
    "from tensorflow.keras.preprocessing.sequence import pad_sequences\n",
    "from tensorflow.keras.models import Model, Sequential\n",
    "from tensorflow.keras.layers import Concatenate, Lambda, Input, LSTM, Embedding, Dense, TimeDistributed, Dropout, Bidirectional, InputLayer, Activation, Flatten\n",
    "from tensorflow.keras.optimizers import Adam, schedules\n",
    "from crfta import CRF as crf4\n",
    "from utils import build_matrix_embeddings as bme, plot_model_performance, logits_to_tokens, report_to_df\n",
    "\n",
    "from tensorflow.keras.callbacks import ModelCheckpoint\n",
    "from tensorflow.keras.callbacks import TensorBoard\n",
    "\n",
    "from IPython.core.display import display, HTML\n",
    "\n",
    "import datetime, os\n",
    "import random\n",
    "\n",
    "SEED = 42\n",
    "os.environ['PYTHONHASHSEED']=str(SEED)\n",
    "os.environ['TF_CUDNN_DETERMINISTIC'] = '1'  # TF 2.1+\n",
    "random.seed(SEED)\n",
    "np.random.seed(SEED)\n",
    "tf.random.set_seed(SEED)\n",
    "\n",
    "MODEL         = 'model-04-tfa-fastText-(Scielo+wiki-cased-cbow)+(char-50)'\n",
    "logs_base_dir = \"./logs\"\n",
    "log_dir       = logs_base_dir + \"/\" + MODEL\n",
    "save_base_dir = './model-save'\n",
    "save_dir      = save_base_dir + \"/\" + MODEL\n",
    "\n",
    "os.makedirs(logs_base_dir, exist_ok=True)\n",
    "os.makedirs(log_dir,       exist_ok=True)\n",
    "os.makedirs(save_base_dir, exist_ok=True)\n",
    "os.makedirs(save_dir,      exist_ok=True)\n",
    "\n",
    "%load_ext tensorboard\n",
    "\n",
    "# ****** DEFINICION DE PARAMETROS *********\n",
    "\n",
    "#NUM_WORDS   = 12154 + 2\n",
    "#LEN_SENTS   = 153\n",
    "#NUM_TAGS    = 19 + 2\n",
    "\n",
    "NUM_WORDS   = 12071 + 2\n",
    "LEN_SENTS   = 153\n",
    "NUM_TAGS    = 30 + 2\n",
    "\n",
    "# ****** DEFINICION DE HIPERPARAMETROS *********\n",
    "_EPOCHS      = 50 #50\n",
    "EMBED_DIM    = 300\n",
    "CHAR_EMBEDD  = 50\n",
    "_DROPOUT     = 0.5\n",
    "REC_DROPOUT  = 0.1\n",
    "LEARN_RATE   = 1e-3\n",
    "N_TRAIN      = int(1e4)\n",
    "EP_DECAY     = 1e-8\n",
    "BETA_1       = 0.9\n",
    "BETA_2       = 0.999\n",
    "_BACH_SIZE   = 500\n",
    "VAL_SPLIT    = 0.1\n",
    "STEPS_PER_EPOCH = N_TRAIN//_BACH_SIZE\n",
    "\n",
    "\n",
    "gpus = tf.config.experimental.list_physical_devices('GPU')\n",
    "if gpus:\n",
    "    try:\n",
    "        # Currently, memory growth needs to be the same across GPUs\n",
    "        for gpu in gpus:\n",
    "            tf.config.experimental.set_memory_growth(gpu, True)\n",
    "            \n",
    "        logical_gpus = tf.config.experimental.list_logical_devices('GPU')\n",
    "        print(len(gpus), \"Physical GPUs,\", len(logical_gpus), \"Logical GPUs\")\n",
    "    except RuntimeError as e:\n",
    "        # Memory growth must be set before GPUs have been initialized\n",
    "        print(e)\n",
    "\n",
    "path_vectors     = '../input/new-lung-vectors/'\n",
    "path_embeddings1 = '../input/embedding/'"
   ]
  },
  {
   "cell_type": "markdown",
   "metadata": {},
   "source": [
    "## Se cargan los datos de Entrenamiento"
   ]
  },
  {
   "cell_type": "code",
   "execution_count": 3,
   "metadata": {},
   "outputs": [
    {
     "name": "stdout",
     "output_type": "stream",
     "text": [
      "path: ../input/new-lung-vectors/\n",
      "[('Mujer', 'O'), ('de', 'O'), ('78', 'B_QUANTITY'), ('años', 'B_METRIC'), ('con', 'O'), ('FX', 'O'), ('EDR', 'O'), ('izdo', 'O'), ('el', 'O'), ('29/08', 'B_DATE'), ('.', 'O')]\n"
     ]
    }
   ],
   "source": [
    "test_sentences = []\n",
    "print(\"path: \" + path_vectors)\n",
    "with open(path_vectors + \"sentences_test.txt\", \"rb\") as fp:\n",
    "    test_sentences = pickle.load(fp)\n",
    "\n",
    "print(test_sentences[0])\n",
    "\n",
    "## ********** Oraciones ********** ##\n",
    "word2idx = np.load(path_vectors + 'word2index.npy', allow_pickle=True).item()\n",
    "tag2idx  = np.load(path_vectors + 'tag2index.npy', allow_pickle=True).item()\n",
    "idx2tag  = np.load(path_vectors + 'index2tag.npy', allow_pickle=True).item()\n",
    "\n",
    "X_train = np.load(path_vectors + 'X_train.npy')\n",
    "X_test  = np.load(path_vectors + 'X_test.npy')\n",
    "X_dev   = np.load(path_vectors + 'X_dev.npy')\n",
    "\n",
    "y_train  = np.load(path_vectors + 'y_train.npy')\n",
    "y_test   = np.load(path_vectors + 'y_test.npy')\n",
    "y_dev    = np.load(path_vectors + 'y_dev.npy')"
   ]
  },
  {
   "cell_type": "markdown",
   "metadata": {},
   "source": [
    "## Pruebas de carga de datos"
   ]
  },
  {
   "cell_type": "code",
   "execution_count": 4,
   "metadata": {},
   "outputs": [
    {
     "name": "stdout",
     "output_type": "stream",
     "text": [
      "9788\n"
     ]
    }
   ],
   "source": [
    "#print('**** Diccionario de palabras: ****\\n')\n",
    "#for key, value in word2idx.items():\n",
    "#    if value == 10:\n",
    "#        break\n",
    "#    else:\n",
    "#        print(key, ' : ', value)\n",
    "        \n",
    "#print(X_train[0])\n",
    "#print(len(X_train))\n",
    "\n",
    "#print(y_train[0])\n",
    "print(len(y_train))\n",
    "#print(len(y_test))\n",
    "#print(len(y_dev))"
   ]
  },
  {
   "cell_type": "markdown",
   "metadata": {},
   "source": [
    "### Se carga el embedding de palabras"
   ]
  },
  {
   "cell_type": "code",
   "execution_count": 5,
   "metadata": {},
   "outputs": [
    {
     "name": "stdout",
     "output_type": "stream",
     "text": [
      "Cargando archivo...\n"
     ]
    },
    {
     "data": {
      "application/vnd.jupyter.widget-view+json": {
       "model_id": "3b8a06156cba45b68aea31ae2ab76ce3",
       "version_major": 2,
       "version_minor": 0
      },
      "text/plain": [
       "0it [00:00, ?it/s]"
      ]
     },
     "metadata": {},
     "output_type": "display_data"
    },
    {
     "name": "stdout",
     "output_type": "stream",
     "text": [
      "Encontrado 474554 Word Vectors.\n"
     ]
    },
    {
     "data": {
      "application/vnd.jupyter.widget-view+json": {
       "model_id": "2a9d03a0a4d74bfbba06346d51f9359c",
       "version_major": 2,
       "version_minor": 0
      },
      "text/plain": [
       "  0%|          | 0/12073 [00:00<?, ?it/s]"
      ]
     },
     "metadata": {},
     "output_type": "display_data"
    },
    {
     "name": "stdout",
     "output_type": "stream",
     "text": [
      "Convertidos: 8164 Tokens | Perdidos: 4694 Tokens\n",
      "Cargando archivo...\n"
     ]
    },
    {
     "data": {
      "application/vnd.jupyter.widget-view+json": {
       "model_id": "fec4eaeb629549cdbbbe9dd049117a14",
       "version_major": 2,
       "version_minor": 0
      },
      "text/plain": [
       "0it [00:00, ?it/s]"
      ]
     },
     "metadata": {},
     "output_type": "display_data"
    },
    {
     "name": "stdout",
     "output_type": "stream",
     "text": [
      "Encontrado 10824 Word Vectors.\n"
     ]
    },
    {
     "data": {
      "application/vnd.jupyter.widget-view+json": {
       "model_id": "9618aaf370aa45e6b2f262396ee67d96",
       "version_major": 2,
       "version_minor": 0
      },
      "text/plain": [
       "  0%|          | 0/12073 [00:00<?, ?it/s]"
      ]
     },
     "metadata": {},
     "output_type": "display_data"
    },
    {
     "name": "stdout",
     "output_type": "stream",
     "text": [
      "Convertidos: 10718 Tokens | Perdidos: 1398 Tokens\n"
     ]
    }
   ],
   "source": [
    "file1 = path_embeddings1 + 'ScieloWiki_cbow_cased.vec'\n",
    "#file2 ='../input/new-lung-vectors/char_embedding_lung.txt'\n",
    "file2 = '../input/new-lung-vectors/char_embedding_new.txt'\n",
    "embedding_matrix = np.concatenate([bme(file1, NUM_WORDS, EMBED_DIM, word2idx),\n",
    "                                   bme(file2, NUM_WORDS, CHAR_EMBEDD, word2idx)], axis=1)"
   ]
  },
  {
   "cell_type": "markdown",
   "metadata": {},
   "source": [
    "## Definición del Modelo"
   ]
  },
  {
   "cell_type": "code",
   "execution_count": 6,
   "metadata": {},
   "outputs": [
    {
     "name": "stderr",
     "output_type": "stream",
     "text": [
      "/opt/conda/lib/python3.7/site-packages/tensorflow/python/autograph/impl/api.py:390: UserWarning: CRF Decoding does not work with KerasTensors in TF2.4. The bug has since been fixed in tensorflow/tensorflow##45534\n",
      "  return py_builtins.overload_of(f)(*args)\n"
     ]
    },
    {
     "name": "stdout",
     "output_type": "stream",
     "text": [
      "Model: \"model\"\n",
      "_________________________________________________________________\n",
      "Layer (type)                 Output Shape              Param #   \n",
      "=================================================================\n",
      "input_1 (InputLayer)         [(None, 153)]             0         \n",
      "_________________________________________________________________\n",
      "embedding (Embedding)        (None, 153, 350)          4225550   \n",
      "_________________________________________________________________\n",
      "bilstm1 (Bidirectional)      (None, 153, 700)          1962800   \n",
      "_________________________________________________________________\n",
      "time_distributed (TimeDistri (None, 153, 700)          0         \n",
      "_________________________________________________________________\n",
      "time_distributed_1 (TimeDist (None, 153, 700)          490700    \n",
      "_________________________________________________________________\n",
      "time_distributed_2 (TimeDist (None, 153, 32)           22432     \n",
      "_________________________________________________________________\n",
      "crf_layer (CRF)              (None, 153, 32)           1024      \n",
      "=================================================================\n",
      "Total params: 6,702,506\n",
      "Trainable params: 2,476,956\n",
      "Non-trainable params: 4,225,550\n",
      "_________________________________________________________________\n"
     ]
    }
   ],
   "source": [
    "#strategy = tf.distribute.MirroredStrategy()\n",
    "\n",
    "#with strategy.scope():\n",
    "# Input Layer\n",
    "input1 = Input(shape=(LEN_SENTS,), dtype='int32')\n",
    "\n",
    "# Embedding Layer\n",
    "sentences = Embedding(NUM_WORDS,\n",
    "                    EMBED_DIM + CHAR_EMBEDD,\n",
    "                    input_length=LEN_SENTS,  \n",
    "                    weights=[embedding_matrix],\n",
    "                    trainable=False,\n",
    "                    mask_zero=True)(input1)\n",
    "\n",
    "# BI-LSTM Layer\n",
    "myModel = Bidirectional(LSTM(EMBED_DIM + CHAR_EMBEDD, \n",
    "                             return_sequences=True\n",
    "                            ),\n",
    "                        name='bilstm1')(sentences)\n",
    "\n",
    "# TimeDistributed Layer\n",
    "myModel  = TimeDistributed(Dropout(_DROPOUT))(myModel)\n",
    "myModel  = TimeDistributed(Dense(units=(EMBED_DIM + CHAR_EMBEDD)*2, activation='relu'))(myModel)\n",
    "myModel  = TimeDistributed(Dense(units=NUM_TAGS, activation='relu'))(myModel)\n",
    "\n",
    "# CRF Layer\n",
    "crf= crf4(NUM_TAGS, sparse_target=True, name='crf_layer')\n",
    "\n",
    "merged_chain = crf(myModel)\n",
    "\n",
    "model = Model(inputs=input1, outputs=merged_chain)\n",
    "\n",
    "model.compile(optimizer='Nadam', loss=crf.loss, metrics=[crf.accuracy])\n",
    "\n",
    "model.summary()"
   ]
  },
  {
   "cell_type": "markdown",
   "metadata": {},
   "source": [
    "## Entranamiento del modelo"
   ]
  },
  {
   "cell_type": "code",
   "execution_count": 7,
   "metadata": {},
   "outputs": [
    {
     "name": "stdout",
     "output_type": "stream",
     "text": [
      "Epoch 1/50\n",
      "20/20 [==============================] - 31s 945ms/step - loss: 54.2351 - viterbi_accuracy: 0.0671 - val_loss: 554.2197 - val_viterbi_accuracy: 0.0924\n",
      "Epoch 2/50\n",
      "20/20 [==============================] - 13s 679ms/step - loss: 51.0236 - viterbi_accuracy: 0.1738 - val_loss: 513.9360 - val_viterbi_accuracy: 0.3192\n",
      "Epoch 3/50\n",
      "20/20 [==============================] - 13s 642ms/step - loss: 50.1865 - viterbi_accuracy: 0.3178 - val_loss: 507.9955 - val_viterbi_accuracy: 0.3216\n",
      "Epoch 4/50\n",
      "20/20 [==============================] - 13s 633ms/step - loss: 49.1280 - viterbi_accuracy: 0.3193 - val_loss: 502.2161 - val_viterbi_accuracy: 0.3229\n",
      "Epoch 5/50\n",
      "20/20 [==============================] - 13s 664ms/step - loss: 48.9676 - viterbi_accuracy: 0.3230 - val_loss: 496.3498 - val_viterbi_accuracy: 0.3247\n",
      "Epoch 6/50\n",
      "20/20 [==============================] - 13s 640ms/step - loss: 47.8572 - viterbi_accuracy: 0.3229 - val_loss: 490.4227 - val_viterbi_accuracy: 0.3269\n",
      "Epoch 7/50\n",
      "20/20 [==============================] - 13s 679ms/step - loss: 48.3057 - viterbi_accuracy: 0.3268 - val_loss: 484.7271 - val_viterbi_accuracy: 0.3275\n",
      "Epoch 8/50\n",
      "20/20 [==============================] - 13s 638ms/step - loss: 47.0394 - viterbi_accuracy: 0.3264 - val_loss: 478.9130 - val_viterbi_accuracy: 0.3289\n",
      "Epoch 9/50\n",
      "20/20 [==============================] - 13s 663ms/step - loss: 46.7000 - viterbi_accuracy: 0.3287 - val_loss: 473.3017 - val_viterbi_accuracy: 0.3285\n",
      "Epoch 10/50\n",
      "20/20 [==============================] - 13s 633ms/step - loss: 45.7474 - viterbi_accuracy: 0.3588 - val_loss: 457.1515 - val_viterbi_accuracy: 0.3983\n",
      "Epoch 11/50\n",
      "20/20 [==============================] - 13s 635ms/step - loss: 45.6164 - viterbi_accuracy: 0.3992 - val_loss: 451.6797 - val_viterbi_accuracy: 0.3977\n",
      "Epoch 12/50\n",
      "20/20 [==============================] - 13s 681ms/step - loss: 44.4508 - viterbi_accuracy: 0.3980 - val_loss: 446.1428 - val_viterbi_accuracy: 0.3966\n",
      "Epoch 13/50\n",
      "20/20 [==============================] - 13s 637ms/step - loss: 44.2537 - viterbi_accuracy: 0.3985 - val_loss: 440.3249 - val_viterbi_accuracy: 0.3981\n",
      "Epoch 14/50\n",
      "20/20 [==============================] - 13s 658ms/step - loss: 43.2608 - viterbi_accuracy: 0.3988 - val_loss: 434.7721 - val_viterbi_accuracy: 0.3980\n",
      "Epoch 15/50\n",
      "20/20 [==============================] - 13s 640ms/step - loss: 43.2685 - viterbi_accuracy: 0.4000 - val_loss: 428.2488 - val_viterbi_accuracy: 0.4042\n",
      "Epoch 16/50\n",
      "20/20 [==============================] - 13s 633ms/step - loss: 42.6314 - viterbi_accuracy: 0.4060 - val_loss: 422.6736 - val_viterbi_accuracy: 0.4038\n",
      "Epoch 17/50\n",
      "20/20 [==============================] - 13s 662ms/step - loss: 42.1761 - viterbi_accuracy: 0.4063 - val_loss: 417.1002 - val_viterbi_accuracy: 0.4031\n",
      "Epoch 18/50\n",
      "20/20 [==============================] - 12s 630ms/step - loss: 42.1978 - viterbi_accuracy: 0.5618 - val_loss: 321.7540 - val_viterbi_accuracy: 0.9926\n",
      "Epoch 19/50\n",
      "20/20 [==============================] - 13s 662ms/step - loss: 40.9859 - viterbi_accuracy: 0.9980 - val_loss: 316.2538 - val_viterbi_accuracy: 0.9924\n",
      "Epoch 20/50\n",
      "20/20 [==============================] - 13s 636ms/step - loss: 40.4230 - viterbi_accuracy: 0.9981 - val_loss: 310.7632 - val_viterbi_accuracy: 0.9918\n",
      "Epoch 21/50\n",
      "20/20 [==============================] - 13s 632ms/step - loss: 40.0221 - viterbi_accuracy: 0.9981 - val_loss: 305.2859 - val_viterbi_accuracy: 0.9904\n",
      "Epoch 22/50\n",
      "20/20 [==============================] - 13s 640ms/step - loss: 39.5945 - viterbi_accuracy: 0.9980 - val_loss: 299.7797 - val_viterbi_accuracy: 0.9899\n",
      "Epoch 23/50\n",
      "20/20 [==============================] - 13s 634ms/step - loss: 38.7297 - viterbi_accuracy: 0.9982 - val_loss: 294.2650 - val_viterbi_accuracy: 0.9901\n",
      "Epoch 24/50\n",
      "20/20 [==============================] - 13s 660ms/step - loss: 38.2112 - viterbi_accuracy: 0.9984 - val_loss: 288.8144 - val_viterbi_accuracy: 0.9899\n",
      "Epoch 25/50\n",
      "20/20 [==============================] - 13s 637ms/step - loss: 37.6368 - viterbi_accuracy: 0.9985 - val_loss: 283.3460 - val_viterbi_accuracy: 0.9898\n",
      "Epoch 26/50\n",
      "20/20 [==============================] - 13s 672ms/step - loss: 36.8782 - viterbi_accuracy: 0.9985 - val_loss: 277.9272 - val_viterbi_accuracy: 0.9861\n",
      "Epoch 27/50\n",
      "20/20 [==============================] - 13s 633ms/step - loss: 36.7575 - viterbi_accuracy: 0.9985 - val_loss: 272.4486 - val_viterbi_accuracy: 0.9823\n",
      "Epoch 28/50\n",
      "20/20 [==============================] - 13s 630ms/step - loss: 35.9248 - viterbi_accuracy: 0.9987 - val_loss: 267.0208 - val_viterbi_accuracy: 0.9803\n",
      "Epoch 29/50\n",
      "20/20 [==============================] - 13s 656ms/step - loss: 35.4579 - viterbi_accuracy: 0.9986 - val_loss: 261.6074 - val_viterbi_accuracy: 0.9790\n",
      "Epoch 30/50\n",
      "20/20 [==============================] - 12s 629ms/step - loss: 34.9269 - viterbi_accuracy: 0.9987 - val_loss: 256.1958 - val_viterbi_accuracy: 0.9777\n",
      "Epoch 31/50\n",
      "20/20 [==============================] - 13s 676ms/step - loss: 34.3838 - viterbi_accuracy: 0.9986 - val_loss: 250.8131 - val_viterbi_accuracy: 0.9752\n",
      "Epoch 32/50\n",
      "20/20 [==============================] - 13s 636ms/step - loss: 34.1825 - viterbi_accuracy: 0.9987 - val_loss: 245.3942 - val_viterbi_accuracy: 0.9747\n",
      "Epoch 33/50\n",
      "20/20 [==============================] - 13s 634ms/step - loss: 33.3935 - viterbi_accuracy: 0.9987 - val_loss: 240.0265 - val_viterbi_accuracy: 0.9738\n",
      "Epoch 34/50\n",
      "20/20 [==============================] - 13s 656ms/step - loss: 32.6147 - viterbi_accuracy: 0.9988 - val_loss: 234.6950 - val_viterbi_accuracy: 0.9734\n",
      "Epoch 35/50\n",
      "20/20 [==============================] - 13s 640ms/step - loss: 32.2917 - viterbi_accuracy: 0.9988 - val_loss: 229.3116 - val_viterbi_accuracy: 0.9726\n",
      "Epoch 36/50\n",
      "20/20 [==============================] - 13s 673ms/step - loss: 31.8561 - viterbi_accuracy: 0.9988 - val_loss: 223.9679 - val_viterbi_accuracy: 0.9657\n",
      "Epoch 37/50\n",
      "20/20 [==============================] - 12s 631ms/step - loss: 31.0951 - viterbi_accuracy: 0.9988 - val_loss: 218.6565 - val_viterbi_accuracy: 0.9645\n",
      "Epoch 38/50\n",
      "20/20 [==============================] - 13s 642ms/step - loss: 30.6697 - viterbi_accuracy: 0.9988 - val_loss: 213.3219 - val_viterbi_accuracy: 0.9618\n",
      "Epoch 39/50\n",
      "20/20 [==============================] - 13s 640ms/step - loss: 29.7979 - viterbi_accuracy: 0.9988 - val_loss: 208.0138 - val_viterbi_accuracy: 0.9553\n",
      "Epoch 40/50\n",
      "20/20 [==============================] - 13s 638ms/step - loss: 29.8092 - viterbi_accuracy: 0.9988 - val_loss: 202.7428 - val_viterbi_accuracy: 0.9376\n",
      "Epoch 41/50\n",
      "20/20 [==============================] - 13s 677ms/step - loss: 29.2133 - viterbi_accuracy: 0.9989 - val_loss: 197.4842 - val_viterbi_accuracy: 0.9058\n",
      "Epoch 42/50\n",
      "20/20 [==============================] - 13s 636ms/step - loss: 28.6574 - viterbi_accuracy: 0.9989 - val_loss: 192.2517 - val_viterbi_accuracy: 0.9052\n",
      "Epoch 43/50\n",
      "20/20 [==============================] - 13s 665ms/step - loss: 28.1006 - viterbi_accuracy: 0.9989 - val_loss: 187.0346 - val_viterbi_accuracy: 0.9045\n",
      "Epoch 44/50\n",
      "20/20 [==============================] - 12s 630ms/step - loss: 27.2090 - viterbi_accuracy: 0.9990 - val_loss: 181.8302 - val_viterbi_accuracy: 0.9045\n",
      "Epoch 45/50\n",
      "20/20 [==============================] - 13s 635ms/step - loss: 26.6257 - viterbi_accuracy: 0.9990 - val_loss: 176.6241 - val_viterbi_accuracy: 0.9046\n",
      "Epoch 46/50\n",
      "20/20 [==============================] - 14s 684ms/step - loss: 26.1255 - viterbi_accuracy: 0.9989 - val_loss: 171.4500 - val_viterbi_accuracy: 0.9045\n",
      "Epoch 47/50\n",
      "20/20 [==============================] - 13s 640ms/step - loss: 25.7174 - viterbi_accuracy: 0.9990 - val_loss: 166.3328 - val_viterbi_accuracy: 0.9045\n",
      "Epoch 48/50\n",
      "20/20 [==============================] - 13s 666ms/step - loss: 25.1256 - viterbi_accuracy: 0.9989 - val_loss: 161.2355 - val_viterbi_accuracy: 0.9045\n",
      "Epoch 49/50\n",
      "20/20 [==============================] - 13s 641ms/step - loss: 24.6520 - viterbi_accuracy: 0.9991 - val_loss: 156.1663 - val_viterbi_accuracy: 0.9044\n",
      "Epoch 50/50\n",
      "20/20 [==============================] - 13s 641ms/step - loss: 24.1074 - viterbi_accuracy: 0.9990 - val_loss: 151.1086 - val_viterbi_accuracy: 0.9043\n"
     ]
    }
   ],
   "source": [
    "tensorboard_callback = TensorBoard(log_dir=log_dir, histogram_freq=1)\n",
    "\n",
    "# Fit the best model\n",
    "history = model.fit(X_train, y_train, \n",
    "                      validation_data  = (X_dev, y_dev),\n",
    "                      batch_size       = _BACH_SIZE, \n",
    "                      epochs           = _EPOCHS,\n",
    "                      verbose          = 1, \n",
    "                      callbacks        = [tensorboard_callback])"
   ]
  },
  {
   "cell_type": "markdown",
   "metadata": {},
   "source": [
    "### se almacena el modelo"
   ]
  },
  {
   "cell_type": "code",
   "execution_count": 8,
   "metadata": {},
   "outputs": [
    {
     "name": "stdout",
     "output_type": "stream",
     "text": [
      "Saved model to disk\n"
     ]
    }
   ],
   "source": [
    "# serialize model to JSON\n",
    "model_json = model.to_json()\n",
    "with open(save_dir + \"/\" + MODEL + \".json\", \"w\") as json_file:\n",
    "    json_file.write(model_json)\n",
    "\n",
    "# serialize weights to HDF5\n",
    "model.save_weights(save_dir + \"/\" + MODEL + \".h5\")\n",
    "print(\"Saved model to disk\")"
   ]
  },
  {
   "cell_type": "markdown",
   "metadata": {},
   "source": [
    "### Evaluamos el modelo y calculamos el valor de precision con respecto a los datos de prueba"
   ]
  },
  {
   "cell_type": "code",
   "execution_count": 9,
   "metadata": {},
   "outputs": [
    {
     "name": "stdout",
     "output_type": "stream",
     "text": [
      "[0. 0. 0. 0. 0. 0. 0. 0. 0. 0. 0. 0. 0. 0. 0. 0. 0. 0. 0. 0. 0. 0. 0. 0.\n",
      " 0. 0. 0. 1. 0. 0. 0. 0.] \n",
      "\n",
      "2496\n"
     ]
    }
   ],
   "source": [
    "print(y_test[0][0], \"\\n\")\n",
    "print(len(y_test))"
   ]
  },
  {
   "cell_type": "code",
   "execution_count": 10,
   "metadata": {},
   "outputs": [
    {
     "name": "stdout",
     "output_type": "stream",
     "text": [
      "78/78 [==============================] - 22s 246ms/step - loss: 149.7713 - viterbi_accuracy: 0.9073\n",
      "viterbi_accuracy: 90.72896242141724\n"
     ]
    }
   ],
   "source": [
    "scores = model.evaluate(X_test, y_test)\n",
    "print(f\"{model.metrics_names[1]}: {scores[1] * 100}\")"
   ]
  },
  {
   "cell_type": "markdown",
   "metadata": {},
   "source": [
    "###  Procedemos a Graficar el comportamiento del Entrenamiento, tanto del conjunto de entrenamiento como el de validación con respecto a la cantidad de epocas"
   ]
  },
  {
   "cell_type": "code",
   "execution_count": 11,
   "metadata": {},
   "outputs": [
    {
     "data": {
      "image/png": "[encoded data removed]",
      "text/plain": [
       "<Figure size 1296x432 with 2 Axes>"
      ]
     },
     "metadata": {
      "needs_background": "light"
     },
     "output_type": "display_data"
    }
   ],
   "source": [
    "plot_model_performance(\n",
    "    train_loss     = history.history.get('loss', []),\n",
    "    train_acc      = history.history.get('viterbi_accuracy', []),\n",
    "    train_val_loss = history.history.get('val_loss', []),\n",
    "    train_val_acc  = history.history.get('val_viterbi_accuracy', [])\n",
    ")"
   ]
  },
  {
   "cell_type": "markdown",
   "metadata": {},
   "source": [
    "### Hacemos la prediccion sobre el conjunto de pruebas"
   ]
  },
  {
   "cell_type": "code",
   "execution_count": 12,
   "metadata": {},
   "outputs": [
    {
     "name": "stdout",
     "output_type": "stream",
     "text": [
      "B_RADIOTHERAPY\n"
     ]
    }
   ],
   "source": [
    "print(idx2tag[6])\n",
    "prediction = model.predict(X_test)"
   ]
  },
  {
   "cell_type": "code",
   "execution_count": 13,
   "metadata": {},
   "outputs": [],
   "source": [
    "y_pred = logits_to_tokens(np.argmax(prediction, -1), idx2tag)"
   ]
  },
  {
   "cell_type": "code",
   "execution_count": 14,
   "metadata": {},
   "outputs": [
    {
     "name": "stdout",
     "output_type": "stream",
     "text": [
      "['O', 'O', 'B_QUANTITY', 'B_METRIC', 'O', 'O', 'O', 'O', 'O', 'B_DATE', 'O', '-PAD-', '-PAD-', '-PAD-', '-PAD-', '-PAD-', '-PAD-', '-PAD-', '-PAD-', '-PAD-', '-PAD-', '-PAD-', '-PAD-', '-PAD-', '-PAD-', '-PAD-', '-PAD-', '-PAD-', '-PAD-', '-PAD-', '-PAD-', '-PAD-', '-PAD-', '-PAD-', '-PAD-', '-PAD-', '-PAD-', '-PAD-', '-PAD-', '-PAD-', '-PAD-', '-PAD-', '-PAD-', '-PAD-', '-PAD-', '-PAD-', '-PAD-', '-PAD-', '-PAD-', '-PAD-', '-PAD-', '-PAD-', '-PAD-', '-PAD-', '-PAD-', '-PAD-', '-PAD-', '-PAD-', '-PAD-', '-PAD-', '-PAD-', '-PAD-', '-PAD-', '-PAD-', '-PAD-', '-PAD-', '-PAD-', '-PAD-', '-PAD-', '-PAD-', '-PAD-', '-PAD-', '-PAD-', '-PAD-', '-PAD-', '-PAD-', '-PAD-', '-PAD-', '-PAD-', '-PAD-', '-PAD-', '-PAD-', '-PAD-', '-PAD-', '-PAD-', '-PAD-', '-PAD-', '-PAD-', '-PAD-', '-PAD-', '-PAD-', '-PAD-', '-PAD-', '-PAD-', '-PAD-', '-PAD-', '-PAD-', '-PAD-', '-PAD-', '-PAD-', '-PAD-', '-PAD-', '-PAD-', '-PAD-', '-PAD-', '-PAD-', '-PAD-', '-PAD-', '-PAD-', '-PAD-', '-PAD-', '-PAD-', '-PAD-', '-PAD-', '-PAD-', '-PAD-', '-PAD-', '-PAD-', '-PAD-', '-PAD-', '-PAD-', '-PAD-', '-PAD-', '-PAD-', '-PAD-', '-PAD-', '-PAD-', '-PAD-', '-PAD-', '-PAD-', '-PAD-', '-PAD-', '-PAD-', '-PAD-', '-PAD-', '-PAD-', '-PAD-', '-PAD-', '-PAD-', '-PAD-', '-PAD-', '-PAD-', '-PAD-', '-PAD-', '-PAD-', '-PAD-', '-PAD-', '-PAD-', '-PAD-', '-PAD-', '-PAD-', '-PAD-', '-PAD-'] \n",
      "\n",
      "[('Mujer', 'O'), ('de', 'O'), ('78', 'B_QUANTITY'), ('años', 'B_METRIC'), ('con', 'O'), ('FX', 'O'), ('EDR', 'O'), ('izdo', 'O'), ('el', 'O'), ('29/08', 'B_DATE'), ('.', 'O')]\n"
     ]
    }
   ],
   "source": [
    "print(y_pred[0], \"\\n\")\n",
    "print(test_sentences[0])"
   ]
  },
  {
   "cell_type": "markdown",
   "metadata": {},
   "source": [
    "### Hallamos los valores de F1 score, recall, precision"
   ]
  },
  {
   "cell_type": "code",
   "execution_count": 15,
   "metadata": {},
   "outputs": [],
   "source": [
    "y_true = []\n",
    "for i, oracion in enumerate(test_sentences):\n",
    "    row_sent = []\n",
    " \n",
    "    for j, lista_palabras in enumerate(oracion):\n",
    "        row_sent.append(lista_palabras[1])\n",
    "\n",
    "    qekk = ['-PAD-'] * LEN_SENTS\n",
    "\n",
    "    qekk[:len(row_sent)] = row_sent\n",
    "    y_true.append(qekk)"
   ]
  },
  {
   "cell_type": "code",
   "execution_count": 16,
   "metadata": {},
   "outputs": [
    {
     "name": "stdout",
     "output_type": "stream",
     "text": [
      "{2: 'B_FAMILY', 3: 'I_FREQ', 4: 'I_DATE', 5: 'B_SMOKER_STATUS', 6: 'B_RADIOTHERAPY', 7: 'B_DATE', 8: 'B_FREQ', 9: 'I_STAGE', 10: 'I_SMOKER_STATUS', 11: 'I_CANCER_CONCEPT', 12: 'I_DRUG', 13: 'B_SURGERY', 14: 'I_IMPLICIT_DATE', 15: 'I_OCURRENCE_EVENT', 16: 'B_STAGE', 17: 'I_TNM', 18: 'I_SURGERY', 19: 'B_CHEMOTHERAPY', 20: 'I_METRIC', 21: 'B_METRIC', 22: 'B_CANCER_CONCEPT', 23: 'B_QUANTITY', 24: 'B_OCURRENCE_EVENT', 25: 'B_TNM', 26: 'I_FAMILY', 27: 'O', 28: 'B_DRUG', 29: 'B_IMPLICIT_DATE', 30: 'B_INTERVAL', 31: 'I_INTERVAL', 0: '-PAD-', 1: '-OOV-'}\n"
     ]
    }
   ],
   "source": [
    "prub = np.argmax(y_test, axis=-1)\n",
    "print(idx2tag)\n",
    "#print(prub[0])\n",
    "#print(y_true[0])\n",
    "#print(len(y_true))\n",
    "#print(len(y_true[0]))\n",
    "#print(len(y_true[1]), \"\\n\")"
   ]
  },
  {
   "cell_type": "code",
   "execution_count": 17,
   "metadata": {},
   "outputs": [],
   "source": [
    "li1 = sum(y_true, [])\n",
    "li2 = sum(y_pred, [])\n",
    "\n",
    "results = pd.DataFrame(columns=['Expected', 'Predicted'])\n",
    "\n",
    "results['Expected'] = li1\n",
    "results['Predicted'] = li2"
   ]
  },
  {
   "cell_type": "code",
   "execution_count": 18,
   "metadata": {
    "scrolled": true
   },
   "outputs": [
    {
     "name": "stderr",
     "output_type": "stream",
     "text": [
      "/opt/conda/lib/python3.7/site-packages/seqeval/metrics/sequence_labeling.py:171: UserWarning: B_QUANTITY seems not to be NE tag.\n",
      "  warnings.warn('{} seems not to be NE tag.'.format(chunk))\n",
      "/opt/conda/lib/python3.7/site-packages/seqeval/metrics/sequence_labeling.py:171: UserWarning: B_METRIC seems not to be NE tag.\n",
      "  warnings.warn('{} seems not to be NE tag.'.format(chunk))\n",
      "/opt/conda/lib/python3.7/site-packages/seqeval/metrics/sequence_labeling.py:171: UserWarning: B_DATE seems not to be NE tag.\n",
      "  warnings.warn('{} seems not to be NE tag.'.format(chunk))\n",
      "/opt/conda/lib/python3.7/site-packages/seqeval/metrics/sequence_labeling.py:171: UserWarning: -PAD- seems not to be NE tag.\n",
      "  warnings.warn('{} seems not to be NE tag.'.format(chunk))\n",
      "/opt/conda/lib/python3.7/site-packages/seqeval/metrics/sequence_labeling.py:171: UserWarning: B_SMOKER_STATUS seems not to be NE tag.\n",
      "  warnings.warn('{} seems not to be NE tag.'.format(chunk))\n",
      "/opt/conda/lib/python3.7/site-packages/seqeval/metrics/sequence_labeling.py:171: UserWarning: B_FREQ seems not to be NE tag.\n",
      "  warnings.warn('{} seems not to be NE tag.'.format(chunk))\n",
      "/opt/conda/lib/python3.7/site-packages/seqeval/metrics/sequence_labeling.py:171: UserWarning: B_DRUG seems not to be NE tag.\n",
      "  warnings.warn('{} seems not to be NE tag.'.format(chunk))\n",
      "/opt/conda/lib/python3.7/site-packages/seqeval/metrics/sequence_labeling.py:171: UserWarning: I_FREQ seems not to be NE tag.\n",
      "  warnings.warn('{} seems not to be NE tag.'.format(chunk))\n",
      "/opt/conda/lib/python3.7/site-packages/seqeval/metrics/sequence_labeling.py:171: UserWarning: B_CANCER_CONCEPT seems not to be NE tag.\n",
      "  warnings.warn('{} seems not to be NE tag.'.format(chunk))\n",
      "/opt/conda/lib/python3.7/site-packages/seqeval/metrics/sequence_labeling.py:171: UserWarning: I_CANCER_CONCEPT seems not to be NE tag.\n",
      "  warnings.warn('{} seems not to be NE tag.'.format(chunk))\n",
      "/opt/conda/lib/python3.7/site-packages/seqeval/metrics/sequence_labeling.py:171: UserWarning: B_TNM seems not to be NE tag.\n",
      "  warnings.warn('{} seems not to be NE tag.'.format(chunk))\n",
      "/opt/conda/lib/python3.7/site-packages/seqeval/metrics/sequence_labeling.py:171: UserWarning: I_TNM seems not to be NE tag.\n",
      "  warnings.warn('{} seems not to be NE tag.'.format(chunk))\n",
      "/opt/conda/lib/python3.7/site-packages/seqeval/metrics/sequence_labeling.py:171: UserWarning: B_STAGE seems not to be NE tag.\n",
      "  warnings.warn('{} seems not to be NE tag.'.format(chunk))\n",
      "/opt/conda/lib/python3.7/site-packages/seqeval/metrics/sequence_labeling.py:171: UserWarning: I_STAGE seems not to be NE tag.\n",
      "  warnings.warn('{} seems not to be NE tag.'.format(chunk))\n",
      "/opt/conda/lib/python3.7/site-packages/seqeval/metrics/sequence_labeling.py:171: UserWarning: I_DATE seems not to be NE tag.\n",
      "  warnings.warn('{} seems not to be NE tag.'.format(chunk))\n",
      "/opt/conda/lib/python3.7/site-packages/seqeval/metrics/sequence_labeling.py:171: UserWarning: B_RADIOTHERAPY seems not to be NE tag.\n",
      "  warnings.warn('{} seems not to be NE tag.'.format(chunk))\n",
      "/opt/conda/lib/python3.7/site-packages/seqeval/metrics/sequence_labeling.py:171: UserWarning: B_INTERVAL seems not to be NE tag.\n",
      "  warnings.warn('{} seems not to be NE tag.'.format(chunk))\n",
      "/opt/conda/lib/python3.7/site-packages/seqeval/metrics/sequence_labeling.py:171: UserWarning: B_OCURRENCE_EVENT seems not to be NE tag.\n",
      "  warnings.warn('{} seems not to be NE tag.'.format(chunk))\n",
      "/opt/conda/lib/python3.7/site-packages/seqeval/metrics/sequence_labeling.py:171: UserWarning: B_FAMILY seems not to be NE tag.\n",
      "  warnings.warn('{} seems not to be NE tag.'.format(chunk))\n",
      "/opt/conda/lib/python3.7/site-packages/seqeval/metrics/sequence_labeling.py:171: UserWarning: B_CHEMOTHERAPY seems not to be NE tag.\n",
      "  warnings.warn('{} seems not to be NE tag.'.format(chunk))\n",
      "/opt/conda/lib/python3.7/site-packages/seqeval/metrics/sequence_labeling.py:171: UserWarning: I_OCURRENCE_EVENT seems not to be NE tag.\n",
      "  warnings.warn('{} seems not to be NE tag.'.format(chunk))\n",
      "/opt/conda/lib/python3.7/site-packages/seqeval/metrics/sequence_labeling.py:171: UserWarning: B_SURGERY seems not to be NE tag.\n",
      "  warnings.warn('{} seems not to be NE tag.'.format(chunk))\n",
      "/opt/conda/lib/python3.7/site-packages/seqeval/metrics/sequence_labeling.py:171: UserWarning: I_SURGERY seems not to be NE tag.\n",
      "  warnings.warn('{} seems not to be NE tag.'.format(chunk))\n",
      "/opt/conda/lib/python3.7/site-packages/seqeval/metrics/sequence_labeling.py:171: UserWarning: I_METRIC seems not to be NE tag.\n",
      "  warnings.warn('{} seems not to be NE tag.'.format(chunk))\n",
      "/opt/conda/lib/python3.7/site-packages/seqeval/metrics/sequence_labeling.py:171: UserWarning: I_SMOKER_STATUS seems not to be NE tag.\n",
      "  warnings.warn('{} seems not to be NE tag.'.format(chunk))\n",
      "/opt/conda/lib/python3.7/site-packages/seqeval/metrics/sequence_labeling.py:171: UserWarning: B_IMPLICIT_DATE seems not to be NE tag.\n",
      "  warnings.warn('{} seems not to be NE tag.'.format(chunk))\n",
      "/opt/conda/lib/python3.7/site-packages/seqeval/metrics/sequence_labeling.py:171: UserWarning: I_IMPLICIT_DATE seems not to be NE tag.\n",
      "  warnings.warn('{} seems not to be NE tag.'.format(chunk))\n",
      "/opt/conda/lib/python3.7/site-packages/seqeval/metrics/sequence_labeling.py:171: UserWarning: I_INTERVAL seems not to be NE tag.\n",
      "  warnings.warn('{} seems not to be NE tag.'.format(chunk))\n",
      "/opt/conda/lib/python3.7/site-packages/seqeval/metrics/sequence_labeling.py:171: UserWarning: I_FAMILY seems not to be NE tag.\n",
      "  warnings.warn('{} seems not to be NE tag.'.format(chunk))\n",
      "/opt/conda/lib/python3.7/site-packages/seqeval/metrics/sequence_labeling.py:171: UserWarning: I_DRUG seems not to be NE tag.\n",
      "  warnings.warn('{} seems not to be NE tag.'.format(chunk))\n"
     ]
    },
    {
     "name": "stdout",
     "output_type": "stream",
     "text": [
      "precision: 89.3%\n",
      "   recall: 92.7%\n",
      " accuracy: 99.7%\n",
      " F1-score: 91.0%\n"
     ]
    }
   ],
   "source": [
    "#hh1 = seqclarep(results['Expected'], results['Predicted'])\n",
    "#print('\\nclassification_report:\\n', hh1)\n",
    "\n",
    "\n",
    "print(\"precision: {:.1%}\".format(precision_score(y_true, y_pred)))\n",
    "print(\"   recall: {:.1%}\".format(recall_score(y_true,    y_pred)))\n",
    "print(\" accuracy: {:.1%}\".format(accuracy_score(y_true,  y_pred)))\n",
    "print(\" F1-score: {:.1%}\".format(f1_score(y_true,        y_pred)))"
   ]
  },
  {
   "cell_type": "markdown",
   "metadata": {},
   "source": [
    "### Hallamos el calculo de cada una de las etiquetas por separado"
   ]
  },
  {
   "cell_type": "code",
   "execution_count": 19,
   "metadata": {},
   "outputs": [
    {
     "name": "stderr",
     "output_type": "stream",
     "text": [
      "/opt/conda/lib/python3.7/site-packages/sklearn/metrics/_classification.py:1245: UndefinedMetricWarning: Precision and F-score are ill-defined and being set to 0.0 in labels with no predicted samples. Use `zero_division` parameter to control this behavior.\n",
      "  _warn_prf(average, modifier, msg_start, len(result))\n",
      "/opt/conda/lib/python3.7/site-packages/sklearn/metrics/_classification.py:1245: UndefinedMetricWarning: Precision and F-score are ill-defined and being set to 0.0 in labels with no predicted samples. Use `zero_division` parameter to control this behavior.\n",
      "  _warn_prf(average, modifier, msg_start, len(result))\n"
     ]
    },
    {
     "name": "stdout",
     "output_type": "stream",
     "text": [
      "           Class Name precision recall f1-score support\n",
      "0               -PAD-      1.00   1.00     1.00  344240\n",
      "1    B_CANCER_CONCEPT      0.95   0.95     0.95     689\n",
      "2      B_CHEMOTHERAPY      0.98   0.99     0.99     191\n",
      "3              B_DATE      0.95   0.91     0.93     779\n",
      "4              B_DRUG      0.92   0.97     0.94     675\n",
      "5            B_FAMILY      0.99   1.00     0.99     147\n",
      "6              B_FREQ      0.78   0.97     0.87     161\n",
      "7     B_IMPLICIT_DATE      0.36   0.65     0.47      26\n",
      "8          B_INTERVAL      0.00   0.00     0.00      21\n",
      "9            B_METRIC      0.94   0.96     0.95    1461\n",
      "10  B_OCURRENCE_EVENT      0.89   0.91     0.90     597\n",
      "11         B_QUANTITY      0.92   0.96     0.94    1493\n",
      "12     B_RADIOTHERAPY      0.89   0.98     0.93      89\n",
      "13    B_SMOKER_STATUS      0.82   0.93     0.87      55\n",
      "14            B_STAGE      0.96   0.99     0.98     155\n",
      "15          B_SURGERY      0.87   0.87     0.87     108\n",
      "16              B_TNM      0.92   0.93     0.93     199\n",
      "17   I_CANCER_CONCEPT      0.95   0.96     0.96    1467\n",
      "18             I_DATE      0.99   0.98     0.98     484\n",
      "19             I_DRUG      0.00   0.00     0.00       1\n",
      "20           I_FAMILY      1.00   1.00     1.00      25\n",
      "21             I_FREQ      0.88   0.97     0.93     146\n",
      "22    I_IMPLICIT_DATE      0.48   0.81     0.60      53\n",
      "23         I_INTERVAL      0.44   1.00     0.62       4\n",
      "24           I_METRIC      0.80   0.75     0.78      65\n",
      "25  I_OCURRENCE_EVENT      0.71   0.79     0.75     224\n",
      "26    I_SMOKER_STATUS      1.00   1.00     1.00       5\n",
      "27            I_STAGE      0.97   0.99     0.98     151\n",
      "28          I_SURGERY      0.77   0.95     0.85     101\n",
      "29              I_TNM      0.93   0.94     0.94     175\n",
      "30                  O      0.98   0.98     0.98   27901\n"
     ]
    },
    {
     "name": "stderr",
     "output_type": "stream",
     "text": [
      "/opt/conda/lib/python3.7/site-packages/sklearn/metrics/_classification.py:1245: UndefinedMetricWarning: Precision and F-score are ill-defined and being set to 0.0 in labels with no predicted samples. Use `zero_division` parameter to control this behavior.\n",
      "  _warn_prf(average, modifier, msg_start, len(result))\n"
     ]
    }
   ],
   "source": [
    "report = eskclarep(results['Expected'], results['Predicted'])\n",
    "print(report_to_df(report))"
   ]
  },
  {
   "cell_type": "code",
   "execution_count": 20,
   "metadata": {},
   "outputs": [
    {
     "data": {
      "image/png": "[encoded data removed]",
      "text/plain": [
       "<Figure size 432x288 with 2 Axes>"
      ]
     },
     "metadata": {
      "needs_background": "light"
     },
     "output_type": "display_data"
    }
   ],
   "source": [
    "import pandas as pd\n",
    "import seaborn as sn\n",
    "import matplotlib.pyplot as plt\n",
    "\n",
    "data = {'y_Actual':    results['Expected'],\n",
    "        'y_Predicted': results['Predicted']\n",
    "        }\n",
    "\n",
    "df = pd.DataFrame(data, columns=['y_Actual','y_Predicted'])\n",
    "confusion_matrix = pd.crosstab(df['y_Actual'], df['y_Predicted'], rownames=['Actual'], colnames=['Predicted'], margins = True)\n",
    "\n",
    "sn.heatmap(confusion_matrix, annot=True)\n",
    "\n",
    "plt.rcParams[\"figure.figsize\"] = (20,10)\n",
    "plt.show()"
   ]
  },
  {
   "cell_type": "markdown",
   "metadata": {},
   "source": [
    "## Testing\n",
    "\n",
    "### Creamos un pequeño Ejemplo"
   ]
  },
  {
   "cell_type": "code",
   "execution_count": 21,
   "metadata": {},
   "outputs": [
    {
     "name": "stdout",
     "output_type": "stream",
     "text": [
      "Ner: \n",
      " [['CICLO', '2', 'CARBOPLATINO', '/', 'PACLITAXEL', '.'], ['En', 'Agosto', 'de', '2015', 'ha', 'recibido', '3', 'ciclos', 'de', 'CISPLATINO', '/', 'VINORELBINA', 'buena', 'tolerancia', 'clinica', '.'], ['QT', ':', 'CISPLATINO', '75', 'mg', '/', 'm2', 'DIA', '1', 'IV', '+', 'VINORELBINA', '25', 'mg', '/', 'm2', 'IV', 'DIAS', '1,8', '-', 'Adenocarcinoma', 'pulmon', 'lobulo', 'superior', 'derecho'], ['El', 'dia', '27', 'de', 'junio', 'iniciamos', 'tratamiento', 'con', 'quimioterapia', 'segun', 'esquema', 'CARBOPLATINO', '/', 'PEMETREXED', '.'], ['CICLO', '1', 'CARBOPLATINO', 'AUC', '5', '-', 'PEMETREXED', '500', 'mg/m2', 'IV', 'cada', '21', 'dias..'], ['RT', 'con', 'dosis', '50', 'Gy,', 'se', 'encuentra', 'bien.', '.'], ['Carcinoma', 'escamoso', 'de', 'pulmón', 'cT3', 'cN2', 'cM0', '(al', 'menos', 'estadio', 'IIIB', 'de', 'TNM', '8ª', 'ed', '.'], ['Diagnosticado', 'en', 'marzo', 'de', '2016', 'de', 'Adenoca', 'de', 'pulmón', 'cT2cN2cM1a', '.'], ['Ha', 'sido', 'diagnosticada', 'de', 'cancer', 'de', 'pulmon', 'en', 'marzo', 'de', '2019', '.'], ['Inicia', 'tratamiento', 'con', 'Cisplatino', '+', 'Pemetrexed', '+', 'Bevacizumab', '(5', 'ciclos', 'administrados,', 'ultimo', 'en', 'enero', 'de', '2014).'], ['Carcinoma', 'escamoso', 'de', 'pulmón', 'intervenido', 'en', 'marzo', '2017', '.'], ['En', '2014,', 'intervenido', 'de', 'carcinoma', 'de', 'pulmón', 'pT2bN1cM0', 'realizandose', 'nefrectomia', 'derecha', '.'], ['carcinoma', 'microcitico', 'de', 'pulmon', 't4', 'n2', 'm0', 'en', 'tto', 'quimioterapico:', 'carboplatino', '/', 'etoposido', '.'], ['Colico', 'renoureteral', 'derecho', 'con', 'fracaso', 'renal', 'obstructivo', 'en', 'Julio', 'de', '2015', '.']]\n"
     ]
    }
   ],
   "source": [
    "ner_samples = [\n",
    "    \"CICLO 2 CARBOPLATINO / PACLITAXEL . \".split(),\n",
    "    \"En Agosto de 2015 ha recibido 3 ciclos de CISPLATINO / VINORELBINA buena tolerancia clinica .\".split(),\n",
    "    \"QT : CISPLATINO 75 mg / m2 DIA 1 IV + VINORELBINA 25 mg / m2 IV DIAS 1,8 - Adenocarcinoma pulmon lobulo superior derecho \".split(),\n",
    "    \"El dia 27 de junio iniciamos tratamiento con quimioterapia segun esquema CARBOPLATINO / PEMETREXED .\".split(),\n",
    "    \"CICLO 1 CARBOPLATINO AUC 5 - PEMETREXED 500 mg/m2 IV cada 21 dias..\".split(),\n",
    "    \"RT con dosis 50 Gy, se encuentra bien. .\".split(),\n",
    "    \"Carcinoma escamoso de pulmón cT3 cN2 cM0 (al menos estadio IIIB de TNM 8ª ed .\".split(),\n",
    "    \"Diagnosticado en marzo de 2016 de Adenoca de pulmón cT2cN2cM1a .\".split(),\n",
    "    \"Ha sido diagnosticada de cancer de pulmon en marzo de 2019 .\".split(),\n",
    "    \"Inicia tratamiento con Cisplatino + Pemetrexed + Bevacizumab (5 ciclos administrados, ultimo en enero de 2014).\".split(),\n",
    "    \"Carcinoma escamoso de pulmón intervenido en marzo 2017 .\".split(),\n",
    "    \"En 2014, intervenido de carcinoma de pulmón pT2bN1cM0 realizandose nefrectomia derecha .\".split(),\n",
    "    \"carcinoma microcitico de pulmon t4 n2 m0 en tto quimioterapico: carboplatino / etoposido .\".split(),\n",
    "    \"Colico renoureteral derecho con fracaso renal obstructivo en Julio de 2015 . \".split()\n",
    "]\n",
    "\n",
    "\n",
    "\n",
    "\n",
    "\n",
    "\n",
    "print(\"Ner: \\n\", ner_samples)\n",
    "\n"
   ]
  },
  {
   "cell_type": "markdown",
   "metadata": {},
   "source": [
    "### Convertimos las Entradas del modelo"
   ]
  },
  {
   "cell_type": "code",
   "execution_count": 22,
   "metadata": {},
   "outputs": [
    {
     "name": "stdout",
     "output_type": "stream",
     "text": [
      "Examples: \n",
      " [[ 2926  3770  4158 ...     0     0     0]\n",
      " [ 1044  8808  2706 ...     0     0     0]\n",
      " [    1  4616  7093 ...     0     0     0]\n",
      " ...\n",
      " [ 1044     1  2607 ...     0     0     0]\n",
      " [10469   531  2706 ...     0     0     0]\n",
      " [ 1628 10337  7713 ...     0     0     0]]\n"
     ]
    }
   ],
   "source": [
    "ner_samples_X    = []\n",
    "\n",
    "for s1 in ner_samples:\n",
    "    s1_int = []\n",
    "    for w in s1:\n",
    "        try:\n",
    "            s1_int.append(word2idx[w.lower()])\n",
    "        except KeyError:\n",
    "            s1_int.append(word2idx['-OOV-'])\n",
    "    ner_samples_X.append(s1_int)\n",
    "\n",
    "ner_samples_X = pad_sequences(ner_samples_X, maxlen=LEN_SENTS, padding='post')\n",
    "\n",
    "\n",
    "print(\"Examples: \\n\", ner_samples_X)\n",
    "\n"
   ]
  },
  {
   "cell_type": "markdown",
   "metadata": {},
   "source": [
    "### Se ejecuta la predición con la entrada de ejemplo en el modelo entrenado"
   ]
  },
  {
   "cell_type": "code",
   "execution_count": 23,
   "metadata": {},
   "outputs": [
    {
     "name": "stderr",
     "output_type": "stream",
     "text": [
      "/opt/conda/lib/python3.7/site-packages/tensorflow/python/autograph/impl/api.py:390: UserWarning: CRF Decoding does not work with KerasTensors in TF2.4. The bug has since been fixed in tensorflow/tensorflow##45534\n",
      "  return py_builtins.overload_of(f)(*args)\n"
     ]
    },
    {
     "name": "stdout",
     "output_type": "stream",
     "text": [
      "Examples: \n",
      " [[[0. 0. 0. ... 0. 0. 0.]\n",
      "  [0. 0. 0. ... 0. 0. 0.]\n",
      "  [0. 0. 0. ... 0. 0. 0.]\n",
      "  ...\n",
      "  [1. 0. 0. ... 0. 0. 0.]\n",
      "  [1. 0. 0. ... 0. 0. 0.]\n",
      "  [1. 0. 0. ... 0. 0. 0.]]\n",
      "\n",
      " [[0. 0. 0. ... 0. 0. 0.]\n",
      "  [0. 0. 0. ... 0. 0. 0.]\n",
      "  [0. 0. 0. ... 0. 0. 0.]\n",
      "  ...\n",
      "  [1. 0. 0. ... 0. 0. 0.]\n",
      "  [1. 0. 0. ... 0. 0. 0.]\n",
      "  [1. 0. 0. ... 0. 0. 0.]]\n",
      "\n",
      " [[0. 0. 0. ... 0. 0. 0.]\n",
      "  [0. 0. 0. ... 0. 0. 0.]\n",
      "  [0. 0. 0. ... 0. 0. 0.]\n",
      "  ...\n",
      "  [1. 0. 0. ... 0. 0. 0.]\n",
      "  [1. 0. 0. ... 0. 0. 0.]\n",
      "  [1. 0. 0. ... 0. 0. 0.]]\n",
      "\n",
      " ...\n",
      "\n",
      " [[0. 0. 0. ... 0. 0. 0.]\n",
      "  [0. 0. 0. ... 0. 0. 0.]\n",
      "  [0. 0. 0. ... 0. 0. 0.]\n",
      "  ...\n",
      "  [1. 0. 0. ... 0. 0. 0.]\n",
      "  [1. 0. 0. ... 0. 0. 0.]\n",
      "  [1. 0. 0. ... 0. 0. 0.]]\n",
      "\n",
      " [[0. 0. 0. ... 0. 0. 0.]\n",
      "  [0. 0. 0. ... 0. 0. 0.]\n",
      "  [0. 0. 0. ... 0. 0. 0.]\n",
      "  ...\n",
      "  [1. 0. 0. ... 0. 0. 0.]\n",
      "  [1. 0. 0. ... 0. 0. 0.]\n",
      "  [1. 0. 0. ... 0. 0. 0.]]\n",
      "\n",
      " [[0. 0. 0. ... 0. 0. 0.]\n",
      "  [0. 0. 0. ... 0. 0. 0.]\n",
      "  [0. 0. 0. ... 0. 0. 0.]\n",
      "  ...\n",
      "  [1. 0. 0. ... 0. 0. 0.]\n",
      "  [1. 0. 0. ... 0. 0. 0.]\n",
      "  [1. 0. 0. ... 0. 0. 0.]]] (14, 153, 32)\n"
     ]
    }
   ],
   "source": [
    "predictions1 = model.predict(ner_samples_X)\n",
    "#predictions2 = model.predict(uncertainty_samples_X)\n",
    "#predictions3 = model.predict(both_samples_X)\n",
    "\n",
    "print(\"Examples: \\n\", predictions1, predictions1.shape)\n",
    "#print(\"\\nUncertainty: \\n\",predictions2, predictions2.shape)\n",
    "#print(predictions3, predictions3.shape)"
   ]
  },
  {
   "cell_type": "markdown",
   "metadata": {},
   "source": [
    "### Conversión de la salida del modelo a un lista de indices de tags"
   ]
  },
  {
   "cell_type": "code",
   "execution_count": 24,
   "metadata": {
    "scrolled": true
   },
   "outputs": [
    {
     "name": "stdout",
     "output_type": "stream",
     "text": [
      "Ner: \n",
      " ['B_METRIC', 'B_QUANTITY', 'B_DRUG', 'O', 'B_DRUG', 'O', '-PAD-', '-PAD-', '-PAD-', '-PAD-', '-PAD-', '-PAD-', '-PAD-', '-PAD-', '-PAD-', '-PAD-', '-PAD-', '-PAD-', '-PAD-', '-PAD-', '-PAD-', '-PAD-', '-PAD-', '-PAD-', '-PAD-', '-PAD-', '-PAD-', '-PAD-', '-PAD-', '-PAD-', '-PAD-', '-PAD-', '-PAD-', '-PAD-', '-PAD-', '-PAD-', '-PAD-', '-PAD-', '-PAD-', '-PAD-', '-PAD-', '-PAD-', '-PAD-', '-PAD-', '-PAD-', '-PAD-', '-PAD-', '-PAD-', '-PAD-', '-PAD-', '-PAD-', '-PAD-', '-PAD-', '-PAD-', '-PAD-', '-PAD-', '-PAD-', '-PAD-', '-PAD-', '-PAD-', '-PAD-', '-PAD-', '-PAD-', '-PAD-', '-PAD-', '-PAD-', '-PAD-', '-PAD-', '-PAD-', '-PAD-', '-PAD-', '-PAD-', '-PAD-', '-PAD-', '-PAD-', '-PAD-', '-PAD-', '-PAD-', '-PAD-', '-PAD-', '-PAD-', '-PAD-', '-PAD-', '-PAD-', '-PAD-', '-PAD-', '-PAD-', '-PAD-', '-PAD-', '-PAD-', '-PAD-', '-PAD-', '-PAD-', '-PAD-', '-PAD-', '-PAD-', '-PAD-', '-PAD-', '-PAD-', '-PAD-', '-PAD-', '-PAD-', '-PAD-', '-PAD-', '-PAD-', '-PAD-', '-PAD-', '-PAD-', '-PAD-', '-PAD-', '-PAD-', '-PAD-', '-PAD-', '-PAD-', '-PAD-', '-PAD-', '-PAD-', '-PAD-', '-PAD-', '-PAD-', '-PAD-', '-PAD-', '-PAD-', '-PAD-', '-PAD-', '-PAD-', '-PAD-', '-PAD-', '-PAD-', '-PAD-', '-PAD-', '-PAD-', '-PAD-', '-PAD-', '-PAD-', '-PAD-', '-PAD-', '-PAD-', '-PAD-', '-PAD-', '-PAD-', '-PAD-', '-PAD-', '-PAD-', '-PAD-', '-PAD-', '-PAD-', '-PAD-', '-PAD-', '-PAD-', '-PAD-', '-PAD-', '-PAD-']\n"
     ]
    }
   ],
   "source": [
    "log_tokens1 = logits_to_tokens(np.argmax(predictions1, -1), idx2tag)\n",
    "#log_tokens2 = logits_to_tokens(np.argmax(predictions2, -1), idx2tag)\n",
    "#log_tokens3 = logits_to_tokens(np.argmax(predictions3, -1), idx2tag)\n",
    "\n",
    "\n",
    "print(\"Ner: \\n\", log_tokens1[0])\n",
    "#print(\"\\nUncertainty: \\n\", log_tokens2[0])\n",
    "#print(\"\\nBoth: \\n\", log_tokens3[0])"
   ]
  },
  {
   "cell_type": "markdown",
   "metadata": {},
   "source": [
    "## Resultado de Ner: "
   ]
  },
  {
   "cell_type": "markdown",
   "metadata": {},
   "source": []
  },
  {
   "cell_type": "code",
   "execution_count": 25,
   "metadata": {},
   "outputs": [
    {
     "data": {
      "text/html": [
       "<div style='overflow-x: auto; white-space: nowrap;'><table>\n",
       "<thead>\n",
       "<tr><th>CICLO   </th><th>2         </th><th>CARBOPLATINO  </th><th>/  </th><th>PACLITAXEL  </th><th>.  </th></tr>\n",
       "</thead>\n",
       "<tbody>\n",
       "<tr><td>B_METRIC</td><td>B_QUANTITY</td><td>B_DRUG        </td><td>O  </td><td>B_DRUG      </td><td>O  </td></tr>\n",
       "</tbody>\n",
       "</table></div>"
      ],
      "text/plain": [
       "<IPython.core.display.HTML object>"
      ]
     },
     "metadata": {},
     "output_type": "display_data"
    },
    {
     "data": {
      "text/html": [
       "<div style='overflow-x: auto; white-space: nowrap;'><table>\n",
       "<thead>\n",
       "<tr><th>En  </th><th>Agosto  </th><th>de    </th><th>2015  </th><th>ha  </th><th>recibido  </th><th>3         </th><th>ciclos  </th><th>de  </th><th>CISPLATINO  </th><th>/  </th><th>VINORELBINA  </th><th>buena  </th><th>tolerancia  </th><th>clinica  </th><th>.  </th></tr>\n",
       "</thead>\n",
       "<tbody>\n",
       "<tr><td>O   </td><td>B_DATE  </td><td>I_DATE</td><td>I_DATE</td><td>O   </td><td>O         </td><td>B_QUANTITY</td><td>B_METRIC</td><td>O   </td><td>B_DRUG      </td><td>O  </td><td>B_DRUG       </td><td>O      </td><td>O           </td><td>O        </td><td>O  </td></tr>\n",
       "</tbody>\n",
       "</table></div>"
      ],
      "text/plain": [
       "<IPython.core.display.HTML object>"
      ]
     },
     "metadata": {},
     "output_type": "display_data"
    },
    {
     "data": {
      "text/html": [
       "<div style='overflow-x: auto; white-space: nowrap;'><table>\n",
       "<thead>\n",
       "<tr><th>QT        </th><th>:  </th><th>CISPLATINO  </th><th>75        </th><th>mg      </th><th>/  </th><th>m2      </th><th>DIA     </th><th>1         </th><th>IV  </th><th>+  </th><th>VINORELBINA  </th><th>25        </th><th>mg      </th><th>/  </th><th>m2      </th><th>IV  </th><th>DIAS    </th><th>1,8       </th><th>-  </th><th>Adenocarcinoma  </th><th>pulmon          </th><th>lobulo  </th><th>superior  </th><th>derecho  </th></tr>\n",
       "</thead>\n",
       "<tbody>\n",
       "<tr><td>B_QUANTITY</td><td>O  </td><td>B_DRUG      </td><td>B_QUANTITY</td><td>B_METRIC</td><td>O  </td><td>B_METRIC</td><td>B_METRIC</td><td>B_QUANTITY</td><td>O   </td><td>O  </td><td>B_DRUG       </td><td>B_QUANTITY</td><td>B_METRIC</td><td>O  </td><td>B_METRIC</td><td>O   </td><td>B_METRIC</td><td>B_QUANTITY</td><td>O  </td><td>B_CANCER_CONCEPT</td><td>I_CANCER_CONCEPT</td><td>O       </td><td>O         </td><td>O        </td></tr>\n",
       "</tbody>\n",
       "</table></div>"
      ],
      "text/plain": [
       "<IPython.core.display.HTML object>"
      ]
     },
     "metadata": {},
     "output_type": "display_data"
    },
    {
     "data": {
      "text/html": [
       "<div style='overflow-x: auto; white-space: nowrap;'><table>\n",
       "<thead>\n",
       "<tr><th>El  </th><th>dia  </th><th>27    </th><th>de    </th><th>junio  </th><th>iniciamos        </th><th>tratamiento      </th><th>con  </th><th>quimioterapia  </th><th>segun  </th><th>esquema  </th><th>CARBOPLATINO  </th><th>/  </th><th>PEMETREXED  </th><th>.  </th></tr>\n",
       "</thead>\n",
       "<tbody>\n",
       "<tr><td>O   </td><td>O    </td><td>B_DATE</td><td>I_DATE</td><td>I_DATE </td><td>B_OCURRENCE_EVENT</td><td>I_OCURRENCE_EVENT</td><td>O    </td><td>B_CHEMOTHERAPY </td><td>O      </td><td>O        </td><td>B_DRUG        </td><td>O  </td><td>B_DRUG      </td><td>O  </td></tr>\n",
       "</tbody>\n",
       "</table></div>"
      ],
      "text/plain": [
       "<IPython.core.display.HTML object>"
      ]
     },
     "metadata": {},
     "output_type": "display_data"
    },
    {
     "data": {
      "text/html": [
       "<div style='overflow-x: auto; white-space: nowrap;'><table>\n",
       "<thead>\n",
       "<tr><th>CICLO   </th><th>1         </th><th>CARBOPLATINO  </th><th>AUC  </th><th>5         </th><th>-  </th><th>PEMETREXED  </th><th>500       </th><th>mg/m2   </th><th>IV  </th><th>cada  </th><th>21    </th><th>dias..  </th></tr>\n",
       "</thead>\n",
       "<tbody>\n",
       "<tr><td>B_METRIC</td><td>B_QUANTITY</td><td>B_DRUG        </td><td>O    </td><td>B_QUANTITY</td><td>O  </td><td>B_DRUG      </td><td>B_QUANTITY</td><td>B_METRIC</td><td>O   </td><td>B_FREQ</td><td>I_FREQ</td><td>O       </td></tr>\n",
       "</tbody>\n",
       "</table></div>"
      ],
      "text/plain": [
       "<IPython.core.display.HTML object>"
      ]
     },
     "metadata": {},
     "output_type": "display_data"
    },
    {
     "data": {
      "text/html": [
       "<div style='overflow-x: auto; white-space: nowrap;'><table>\n",
       "<thead>\n",
       "<tr><th>RT  </th><th>con  </th><th>dosis  </th><th>50        </th><th>Gy,  </th><th>se  </th><th>encuentra  </th><th>bien.  </th><th>.  </th></tr>\n",
       "</thead>\n",
       "<tbody>\n",
       "<tr><td>O   </td><td>O    </td><td>O      </td><td>B_QUANTITY</td><td>O    </td><td>O   </td><td>O          </td><td>O      </td><td>O  </td></tr>\n",
       "</tbody>\n",
       "</table></div>"
      ],
      "text/plain": [
       "<IPython.core.display.HTML object>"
      ]
     },
     "metadata": {},
     "output_type": "display_data"
    },
    {
     "data": {
      "text/html": [
       "<div style='overflow-x: auto; white-space: nowrap;'><table>\n",
       "<thead>\n",
       "<tr><th>Carcinoma       </th><th>escamoso        </th><th>de              </th><th>pulmón          </th><th>cT3  </th><th>cN2  </th><th>cM0  </th><th>(al  </th><th>menos  </th><th>estadio  </th><th>IIIB   </th><th>de  </th><th>TNM  </th><th>8ª        </th><th>ed      </th><th>.  </th></tr>\n",
       "</thead>\n",
       "<tbody>\n",
       "<tr><td>B_CANCER_CONCEPT</td><td>I_CANCER_CONCEPT</td><td>I_CANCER_CONCEPT</td><td>I_CANCER_CONCEPT</td><td>B_TNM</td><td>O    </td><td>B_TNM</td><td>O    </td><td>O      </td><td>B_STAGE  </td><td>I_STAGE</td><td>O   </td><td>O    </td><td>B_QUANTITY</td><td>B_METRIC</td><td>O  </td></tr>\n",
       "</tbody>\n",
       "</table></div>"
      ],
      "text/plain": [
       "<IPython.core.display.HTML object>"
      ]
     },
     "metadata": {},
     "output_type": "display_data"
    },
    {
     "data": {
      "text/html": [
       "<div style='overflow-x: auto; white-space: nowrap;'><table>\n",
       "<thead>\n",
       "<tr><th>Diagnosticado    </th><th>en  </th><th>marzo  </th><th>de    </th><th>2016  </th><th>de  </th><th>Adenoca         </th><th>de              </th><th>pulmón          </th><th>cT2cN2cM1a  </th><th>.  </th></tr>\n",
       "</thead>\n",
       "<tbody>\n",
       "<tr><td>B_OCURRENCE_EVENT</td><td>O   </td><td>B_DATE </td><td>I_DATE</td><td>I_DATE</td><td>O   </td><td>B_CANCER_CONCEPT</td><td>I_CANCER_CONCEPT</td><td>I_CANCER_CONCEPT</td><td>O           </td><td>O  </td></tr>\n",
       "</tbody>\n",
       "</table></div>"
      ],
      "text/plain": [
       "<IPython.core.display.HTML object>"
      ]
     },
     "metadata": {},
     "output_type": "display_data"
    },
    {
     "data": {
      "text/html": [
       "<div style='overflow-x: auto; white-space: nowrap;'><table>\n",
       "<thead>\n",
       "<tr><th>Ha               </th><th>sido  </th><th>diagnosticada    </th><th>de  </th><th>cancer          </th><th>de              </th><th>pulmon          </th><th>en  </th><th>marzo  </th><th>de    </th><th>2019  </th><th>.  </th></tr>\n",
       "</thead>\n",
       "<tbody>\n",
       "<tr><td>B_OCURRENCE_EVENT</td><td>O     </td><td>B_OCURRENCE_EVENT</td><td>O   </td><td>B_CANCER_CONCEPT</td><td>I_CANCER_CONCEPT</td><td>I_CANCER_CONCEPT</td><td>O   </td><td>B_DATE </td><td>I_DATE</td><td>I_DATE</td><td>O  </td></tr>\n",
       "</tbody>\n",
       "</table></div>"
      ],
      "text/plain": [
       "<IPython.core.display.HTML object>"
      ]
     },
     "metadata": {},
     "output_type": "display_data"
    },
    {
     "data": {
      "text/html": [
       "<div style='overflow-x: auto; white-space: nowrap;'><table>\n",
       "<thead>\n",
       "<tr><th>Inicia           </th><th>tratamiento      </th><th>con  </th><th>Cisplatino  </th><th>+  </th><th>Pemetrexed  </th><th>+  </th><th>Bevacizumab  </th><th>(5        </th><th>ciclos  </th><th>administrados,  </th><th>ultimo           </th><th>en  </th><th>enero  </th><th>de    </th><th>2014).  </th></tr>\n",
       "</thead>\n",
       "<tbody>\n",
       "<tr><td>B_OCURRENCE_EVENT</td><td>I_OCURRENCE_EVENT</td><td>O    </td><td>B_DRUG      </td><td>O  </td><td>B_DRUG      </td><td>O  </td><td>O            </td><td>B_QUANTITY</td><td>B_METRIC</td><td>O               </td><td>B_OCURRENCE_EVENT</td><td>O   </td><td>B_DATE </td><td>I_DATE</td><td>I_DATE  </td></tr>\n",
       "</tbody>\n",
       "</table></div>"
      ],
      "text/plain": [
       "<IPython.core.display.HTML object>"
      ]
     },
     "metadata": {},
     "output_type": "display_data"
    },
    {
     "data": {
      "text/html": [
       "<div style='overflow-x: auto; white-space: nowrap;'><table>\n",
       "<thead>\n",
       "<tr><th>Carcinoma       </th><th>escamoso        </th><th>de              </th><th>pulmón          </th><th>intervenido      </th><th>en  </th><th>marzo  </th><th>2017  </th><th>.  </th></tr>\n",
       "</thead>\n",
       "<tbody>\n",
       "<tr><td>B_CANCER_CONCEPT</td><td>I_CANCER_CONCEPT</td><td>I_CANCER_CONCEPT</td><td>I_CANCER_CONCEPT</td><td>B_OCURRENCE_EVENT</td><td>O   </td><td>B_DATE </td><td>I_DATE</td><td>O  </td></tr>\n",
       "</tbody>\n",
       "</table></div>"
      ],
      "text/plain": [
       "<IPython.core.display.HTML object>"
      ]
     },
     "metadata": {},
     "output_type": "display_data"
    },
    {
     "data": {
      "text/html": [
       "<div style='overflow-x: auto; white-space: nowrap;'><table>\n",
       "<thead>\n",
       "<tr><th>En  </th><th>2014,  </th><th>intervenido      </th><th>de  </th><th>carcinoma       </th><th>de              </th><th>pulmón          </th><th>pT2bN1cM0  </th><th>realizandose  </th><th>nefrectomia  </th><th>derecha  </th><th>.  </th></tr>\n",
       "</thead>\n",
       "<tbody>\n",
       "<tr><td>O   </td><td>B_DATE </td><td>B_OCURRENCE_EVENT</td><td>O   </td><td>B_CANCER_CONCEPT</td><td>I_CANCER_CONCEPT</td><td>I_CANCER_CONCEPT</td><td>B_TNM      </td><td>O             </td><td>B_SURGERY    </td><td>I_SURGERY</td><td>O  </td></tr>\n",
       "</tbody>\n",
       "</table></div>"
      ],
      "text/plain": [
       "<IPython.core.display.HTML object>"
      ]
     },
     "metadata": {},
     "output_type": "display_data"
    },
    {
     "data": {
      "text/html": [
       "<div style='overflow-x: auto; white-space: nowrap;'><table>\n",
       "<thead>\n",
       "<tr><th>carcinoma       </th><th>microcitico     </th><th>de              </th><th>pulmon          </th><th>t4   </th><th>n2   </th><th>m0   </th><th>en  </th><th>tto  </th><th>quimioterapico:  </th><th>carboplatino  </th><th>/  </th><th>etoposido  </th><th>.  </th></tr>\n",
       "</thead>\n",
       "<tbody>\n",
       "<tr><td>B_CANCER_CONCEPT</td><td>I_CANCER_CONCEPT</td><td>I_CANCER_CONCEPT</td><td>I_CANCER_CONCEPT</td><td>B_TNM</td><td>I_TNM</td><td>I_TNM</td><td>O   </td><td>O    </td><td>O                </td><td>B_DRUG        </td><td>O  </td><td>B_DRUG     </td><td>O  </td></tr>\n",
       "</tbody>\n",
       "</table></div>"
      ],
      "text/plain": [
       "<IPython.core.display.HTML object>"
      ]
     },
     "metadata": {},
     "output_type": "display_data"
    },
    {
     "data": {
      "text/html": [
       "<div style='overflow-x: auto; white-space: nowrap;'><table>\n",
       "<thead>\n",
       "<tr><th>Colico  </th><th>renoureteral  </th><th>derecho  </th><th>con  </th><th>fracaso  </th><th>renal  </th><th>obstructivo  </th><th>en  </th><th>Julio  </th><th>de    </th><th>2015  </th><th>.  </th></tr>\n",
       "</thead>\n",
       "<tbody>\n",
       "<tr><td>O       </td><td>O             </td><td>O        </td><td>O    </td><td>O        </td><td>O      </td><td>O            </td><td>O   </td><td>B_DATE </td><td>I_DATE</td><td>I_DATE</td><td>O  </td></tr>\n",
       "</tbody>\n",
       "</table></div>"
      ],
      "text/plain": [
       "<IPython.core.display.HTML object>"
      ]
     },
     "metadata": {},
     "output_type": "display_data"
    }
   ],
   "source": [
    "for h, oracc in enumerate(ner_samples):\n",
    "    heads = oracc\n",
    "    body  = [log_tokens1[h][:len(oracc)]]\n",
    "    display(HTML(\"<div style='overflow-x: auto; white-space: nowrap;'>\" + \n",
    "                 tabulate(body, headers=heads, tablefmt=\"html\") + \n",
    "                 \"</div>\"))"
   ]
  },
  {
   "cell_type": "code",
   "execution_count": null,
   "metadata": {},
   "outputs": [],
   "source": []
  },
  {
   "cell_type": "code",
   "execution_count": null,
   "metadata": {},
   "outputs": [],
   "source": []
  }
 ],
 "metadata": {
  "kernelspec": {
   "display_name": "Python 3",
   "language": "python",
   "name": "python3"
  },
  "language_info": {
   "codemirror_mode": {
    "name": "ipython",
    "version": 3
   },
   "file_extension": ".py",
   "mimetype": "text/x-python",
   "name": "python",
   "nbconvert_exporter": "python",
   "pygments_lexer": "ipython3",
   "version": "3.8.5"
  }
 },
 "nbformat": 4,
 "nbformat_minor": 4
}
